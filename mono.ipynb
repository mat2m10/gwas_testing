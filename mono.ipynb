{
 "cells": [
  {
   "cell_type": "code",
   "execution_count": 912,
   "metadata": {},
   "outputs": [],
   "source": [
    "#PATH_data = f\"../abyss_data/\"\n",
    "#Mount external drive: sudo mount -t drvfs D: /mnt/d\n",
    "PATH_data = f\"/mnt/d/abyss_data/\"\n",
    "PATH_GENO = f\"{PATH_data}genotype\"\n",
    "PATH_SUMSTAT = f\"{PATH_data}sumstat/mono/\"\n",
    "PATH_SUMSTAT_no_corr = f\"{PATH_data}sumstat_no_corr\"\n",
    "PATH_GENO_segmented = f\"{PATH_GENO}/segmented/\"\n",
    "PATH_GENO_mini_dim = f\"{PATH_GENO}/mini_dim/\"\n",
    "PATH_GENO_maf = f\"{PATH_GENO}/maf/\"\n",
    "\n",
    "PATH_PHENO = f\"{PATH_data}phenotype/\"\n",
    "PATH_PHENO_ancestry = f\"{PATH_PHENO}/ancestry/all.panel\"\n",
    "PATH_PLOTS = f\"{PATH_data}plots/\"\n",
    "PATH_PARAMS = './hyper_params_to_test_AF.txt'"
   ]
  },
  {
   "cell_type": "code",
   "execution_count": 913,
   "metadata": {},
   "outputs": [],
   "source": [
    "# Import libraries\n",
    "import matplotlib.pyplot as plt\n",
    "import seaborn as sns\n",
    "import tensorflow as tf\n",
    "import numpy as np\n",
    "import pandas as pd  # Import Pandas and Numpy to create databases\n",
    "from collections import Counter\n",
    "import os\n",
    "from os import listdir\n",
    "os.environ['TF_CPP_MIN_LOG_LEVEL'] = '4'"
   ]
  },
  {
   "cell_type": "code",
   "execution_count": 914,
   "metadata": {},
   "outputs": [],
   "source": [
    "effect = 1\n",
    "chrom = 21\n",
    "maf_causal_snp = 0.001\n",
    "sit = \"no_strat_causal\""
   ]
  },
  {
   "cell_type": "code",
   "execution_count": 915,
   "metadata": {},
   "outputs": [],
   "source": [
    "path_genos = PATH_GENO_segmented + f\"chrom_{chrom}/unshuffled/\"\n"
   ]
  },
  {
   "cell_type": "code",
   "execution_count": 916,
   "metadata": {},
   "outputs": [
    {
     "ename": "OSError",
     "evalue": "[Errno 19] No such device: '/mnt/d/abyss_data/genotype/segmented/chrom_21/unshuffled/'",
     "output_type": "error",
     "traceback": [
      "\u001b[0;31m---------------------------------------------------------------------------\u001b[0m",
      "\u001b[0;31mOSError\u001b[0m                                   Traceback (most recent call last)",
      "Cell \u001b[0;32mIn [916], line 1\u001b[0m\n\u001b[0;32m----> 1\u001b[0m onlyfiles_input \u001b[39m=\u001b[39m [f \u001b[39mfor\u001b[39;00m f \u001b[39min\u001b[39;00m listdir(\n\u001b[1;32m      2\u001b[0m     path_genos) \u001b[39mif\u001b[39;00m maf_causal_snp \u001b[39m+\u001b[39m maf_causal_snp\u001b[39m/\u001b[39m\u001b[39m5\u001b[39m \u001b[39m>\u001b[39m \u001b[39mfloat\u001b[39m(f\u001b[39m.\u001b[39msplit(\u001b[39m'\u001b[39m\u001b[39m_\u001b[39m\u001b[39m'\u001b[39m)[\u001b[39m5\u001b[39m]) \u001b[39m>\u001b[39m maf_causal_snp \u001b[39m-\u001b[39m maf_causal_snp\u001b[39m/\u001b[39m\u001b[39m5\u001b[39m]\n",
      "\u001b[0;31mOSError\u001b[0m: [Errno 19] No such device: '/mnt/d/abyss_data/genotype/segmented/chrom_21/unshuffled/'"
     ]
    }
   ],
   "source": [
    "onlyfiles_input = [f for f in listdir(\n",
    "    path_genos) if maf_causal_snp + maf_causal_snp/5 > float(f.split('_')[5]) > maf_causal_snp - maf_causal_snp/5]\n"
   ]
  },
  {
   "cell_type": "code",
   "execution_count": null,
   "metadata": {},
   "outputs": [],
   "source": [
    "popped = onlyfiles_input[round(len(onlyfiles_input)/2)]\n",
    "snp_nr = 0"
   ]
  },
  {
   "cell_type": "code",
   "execution_count": null,
   "metadata": {},
   "outputs": [
    {
     "data": {
      "text/plain": [
       "'20_0_1200_20_maf_0.21_0.26.pkl'"
      ]
     },
     "execution_count": 881,
     "metadata": {},
     "output_type": "execute_result"
    }
   ],
   "source": [
    "popped"
   ]
  },
  {
   "cell_type": "code",
   "execution_count": null,
   "metadata": {},
   "outputs": [
    {
     "data": {
      "text/plain": [
       "256"
      ]
     },
     "execution_count": 882,
     "metadata": {},
     "output_type": "execute_result"
    },
    {
     "name": "stderr",
     "output_type": "stream",
     "text": [
      "mkdir: cannot create directory ‘/mnt/d/abyss_data/sumstat/mono/maf_causal_0.25’: File exists\n"
     ]
    }
   ],
   "source": [
    "os.system(f\"mkdir {PATH_SUMSTAT}maf_causal_{maf_causal_snp}\")"
   ]
  },
  {
   "cell_type": "code",
   "execution_count": null,
   "metadata": {},
   "outputs": [
    {
     "data": {
      "text/plain": [
       "0"
      ]
     },
     "execution_count": 883,
     "metadata": {},
     "output_type": "execute_result"
    }
   ],
   "source": [
    "os.system(f\"mkdir {PATH_SUMSTAT}maf_causal_{maf_causal_snp}/{chrom}\")\n"
   ]
  },
  {
   "cell_type": "code",
   "execution_count": null,
   "metadata": {},
   "outputs": [],
   "source": [
    "PATH_mono = f\"{PATH_SUMSTAT}maf_causal_{maf_causal_snp}\"\n"
   ]
  },
  {
   "cell_type": "code",
   "execution_count": null,
   "metadata": {},
   "outputs": [],
   "source": [
    "try:\n",
    "  causal_file = [f for f in listdir(\n",
    "      PATH_mono) if f.startswith(\"from_chrom\")][0]\n",
    "  snps = pd.read_pickle(f\"{PATH_mono}/{causal_file}\")\n",
    "except Exception as e:\n",
    "  print(e)\n",
    "  snps = pd.read_pickle(path_genos+popped)\n",
    "  snps.to_pickle(f\"{PATH_mono}/from_chrom_{chrom}_{popped}\")\n",
    "  snp = snps.iloc[:, snp_nr]\n",
    "  name = snps.columns[snp_nr]\n",
    "  snp.to_pickle(f\"{PATH_mono}/causal_snp_{name}.pkl\")"
   ]
  },
  {
   "cell_type": "code",
   "execution_count": null,
   "metadata": {},
   "outputs": [],
   "source": [
    "causal_file = [f for f in listdir(PATH_mono) if f.startswith(\"from_chrom\")][0]\n"
   ]
  },
  {
   "cell_type": "code",
   "execution_count": null,
   "metadata": {},
   "outputs": [],
   "source": [
    "humans = pd.read_pickle(f\"{PATH_data}sumstat/humans_no_causal.pkl\")\n"
   ]
  },
  {
   "cell_type": "code",
   "execution_count": null,
   "metadata": {},
   "outputs": [],
   "source": [
    "snps = pd.read_pickle(f\"{PATH_mono}/{causal_file}\")\n",
    "\n",
    "name = snps.columns[snp_nr]\n",
    "\n",
    "snp_effect = snps.iloc[:, snp_nr] * effect\n",
    "#snp_effect = snps.iloc[:, snp_nr] * (effect/float(maf.split('_')[0]))\n",
    "\n",
    "humans['no_strat_causal'] = humans['no_strat_no_causal']\n",
    "humans['strat_causal'] = humans['strat_no_causal']\n",
    "\n",
    "humans['no_strat_causal'] = humans['no_strat_causal'] + snp_effect\n",
    "humans['strat_causal'] = humans['strat_causal'] + snp_effect"
   ]
  },
  {
   "cell_type": "code",
   "execution_count": null,
   "metadata": {},
   "outputs": [
    {
     "name": "stdout",
     "output_type": "stream",
     "text": [
      "dict_keys([-1, 1, 0])\n"
     ]
    }
   ],
   "source": [
    "print(Counter(snp_effect).keys())"
   ]
  },
  {
   "cell_type": "code",
   "execution_count": null,
   "metadata": {},
   "outputs": [
    {
     "data": {
      "text/plain": [
       "0"
      ]
     },
     "execution_count": 890,
     "metadata": {},
     "output_type": "execute_result"
    }
   ],
   "source": [
    "os.system(f\"mkdir {PATH_SUMSTAT}maf_causal_{maf_causal_snp}/{chrom}/{sit}\")\n"
   ]
  },
  {
   "cell_type": "code",
   "execution_count": null,
   "metadata": {},
   "outputs": [],
   "source": [
    "path_output = f\"{PATH_SUMSTAT}maf_causal_{maf_causal_snp}/{chrom}/{sit}/\"\n"
   ]
  },
  {
   "cell_type": "code",
   "execution_count": null,
   "metadata": {},
   "outputs": [],
   "source": [
    "pheno = np.array(humans[sit])"
   ]
  },
  {
   "cell_type": "code",
   "execution_count": null,
   "metadata": {},
   "outputs": [],
   "source": [
    "from sklearn import datasets, linear_model\n",
    "from sklearn.linear_model import LinearRegression\n",
    "import statsmodels.api as sm\n",
    "from scipy import stats"
   ]
  },
  {
   "cell_type": "code",
   "execution_count": null,
   "metadata": {},
   "outputs": [],
   "source": [
    "onlyfiles_input = [f for f in listdir(path_genos)]"
   ]
  },
  {
   "cell_type": "code",
   "execution_count": null,
   "metadata": {},
   "outputs": [
    {
     "data": {
      "text/plain": [
       "'\\nfor file in onlyfiles_input:\\n    path_file = path_genos + \\'/\\' + file\\n    genos = pd.read_pickle(path_file)    \\n    X = genos\\n    y = pheno\\n    X2 = sm.add_constant(X)\\n    est = sm.OLS(y, X2)\\n    est2 = est.fit()\\n    sumstat = pd.DataFrame(data={\\n        \\'snp\\': list(est2.pvalues.index)[1:],\\n        \\'coef\\': list(est2.params)[1:],\\n        \\'std_err\\': list(est2.bse)[1:],\\n        \\'t\\': list(est2.tvalues)[1:],\\n        \\'P\\': list(est2.pvalues[1:]),\\n        \\'0.025\\': list(est2.conf_int()[0])[1:],\\n        \\'0.975\\': list(est2.conf_int()[1])[1:]\\n    })\\n    sumstat[\\'#CHROM\\'] = sumstat[\\'snp\\'].str[:2].astype(int)\\n    sumstat[\\'POS\\'] = [i.split(\\':\\', 1)[0]\\n                      for i in list(sumstat[\\'snp\\'].str[3:-5])]\\n    sumstat[\\'POS\\'] = sumstat[\\'POS\\'].astype(int)\\n    sumstat[\\'-logp\\'] = - np.log10(sumstat[\\'P\\'])\\n    sumstat.to_pickle(f\"{path_output}/{file}\")\\n'"
      ]
     },
     "execution_count": 895,
     "metadata": {},
     "output_type": "execute_result"
    }
   ],
   "source": [
    "\"\"\"\n",
    "for file in onlyfiles_input:\n",
    "    path_file = path_genos + '/' + file\n",
    "    genos = pd.read_pickle(path_file)    \n",
    "    X = genos\n",
    "    y = pheno\n",
    "    X2 = sm.add_constant(X)\n",
    "    est = sm.OLS(y, X2)\n",
    "    est2 = est.fit()\n",
    "    sumstat = pd.DataFrame(data={\n",
    "        'snp': list(est2.pvalues.index)[1:],\n",
    "        'coef': list(est2.params)[1:],\n",
    "        'std_err': list(est2.bse)[1:],\n",
    "        't': list(est2.tvalues)[1:],\n",
    "        'P': list(est2.pvalues[1:]),\n",
    "        '0.025': list(est2.conf_int()[0])[1:],\n",
    "        '0.975': list(est2.conf_int()[1])[1:]\n",
    "    })\n",
    "    sumstat['#CHROM'] = sumstat['snp'].str[:2].astype(int)\n",
    "    sumstat['POS'] = [i.split(':', 1)[0]\n",
    "                      for i in list(sumstat['snp'].str[3:-5])]\n",
    "    sumstat['POS'] = sumstat['POS'].astype(int)\n",
    "    sumstat['-logp'] = - np.log10(sumstat['P'])\n",
    "    sumstat.to_pickle(f\"{path_output}/{file}\")\n",
    "\"\"\"\n"
   ]
  },
  {
   "cell_type": "code",
   "execution_count": null,
   "metadata": {},
   "outputs": [],
   "source": [
    "for file in onlyfiles_input:\n",
    "    path_file = path_genos + '/' + file\n",
    "    genos = pd.read_pickle(path_file)\n",
    "    snps_names = []\n",
    "    coefs = []\n",
    "    std_errs = []\n",
    "    ts = []\n",
    "    ps = []\n",
    "    twenys = []\n",
    "    ninetys = []\n",
    "    for snp_name in genos:\n",
    "      X = genos[snp_name]\n",
    "      X2 = sm.add_constant(X)\n",
    "      y = pheno\n",
    "      est = sm.OLS(y, X2)\n",
    "      est2 = est.fit()\n",
    "      y = pheno\n",
    "      X2 = sm.add_constant(X)\n",
    "      est = sm.OLS(y, X2)\n",
    "      est2 = est.fit()\n",
    "      snps_names.append(list(est2.pvalues.index)[1:][0])\n",
    "      coefs.append(list(est2.params)[1:][0])\n",
    "      std_errs.append(list(est2.bse)[1:][0])\n",
    "      ts.append(list(est2.tvalues)[1:][0])\n",
    "      ps.append(list(est2.pvalues[1:])[0])\n",
    "      twenys.append(list(est2.conf_int()[0])[1:][0])\n",
    "      ninetys.append(list(est2.conf_int()[1])[1:][0])\n",
    "    sumstat = pd.DataFrame(data={ \n",
    "        'snp': snps_names,\n",
    "        'coef': coefs,\n",
    "        'std_err': std_errs,\n",
    "        't': ts,\n",
    "        'P': ps,\n",
    "        '0.025': twenys,\n",
    "        '0.975': ninetys\n",
    "    })\n",
    "    sumstat['#CHROM'] = sumstat['snp'].str[:2].astype(int)\n",
    "    sumstat['POS'] = [i.split(':', 1)[0]\n",
    "                      for i in list(sumstat['snp'].str[3:-5])]\n",
    "    sumstat['POS'] = sumstat['POS'].astype(int)\n",
    "    sumstat['-logp'] = - np.log10(sumstat['P'])\n",
    "    sumstat.to_pickle(f\"{path_output}/{file}\")\n"
   ]
  },
  {
   "cell_type": "code",
   "execution_count": null,
   "metadata": {},
   "outputs": [],
   "source": [
    "path_sumstat = f\"{PATH_SUMSTAT}maf_causal_{maf_causal_snp}/\""
   ]
  },
  {
   "cell_type": "code",
   "execution_count": null,
   "metadata": {},
   "outputs": [],
   "source": [
    "chrom_files = [f for f in listdir(path_sumstat) if f != causal_file]\n",
    "chrom_files = [f for f in chrom_files if f != f\"causal_snp_{name}.pkl\"]\n",
    "chrom_files = [f for f in chrom_files if f.split(\"_\")[0] != f\"GWAS\"]"
   ]
  },
  {
   "cell_type": "code",
   "execution_count": null,
   "metadata": {},
   "outputs": [
    {
     "data": {
      "text/plain": [
       "['21', '22']"
      ]
     },
     "execution_count": 899,
     "metadata": {},
     "output_type": "execute_result"
    }
   ],
   "source": [
    "chrom_files"
   ]
  },
  {
   "cell_type": "code",
   "execution_count": null,
   "metadata": {},
   "outputs": [
    {
     "data": {
      "text/plain": [
       "['3_0_1198_3_maf_0.0006_0.001.pkl',\n",
       " '3_1_889_3_maf_0.0006_0.001.pkl',\n",
       " '3_2_1039_3_maf_0.0006_0.001.pkl',\n",
       " '3_3_1039_3_maf_0.0006_0.001.pkl',\n",
       " '3_4_1071_3_maf_0.0006_0.001.pkl',\n",
       " '3_5_800_3_maf_0.0006_0.001.pkl',\n",
       " '3_6_800_3_maf_0.0006_0.001.pkl',\n",
       " '3_7_1139_3_maf_0.0006_0.001.pkl',\n",
       " '3_8_931_3_maf_0.0006_0.001.pkl',\n",
       " '3_9_1094_3_maf_0.0006_0.001.pkl',\n",
       " '17_0_1200_17_maf_0.12_0.16.pkl',\n",
       " '17_1_1200_17_maf_0.12_0.16.pkl',\n",
       " '17_2_1147_17_maf_0.12_0.16.pkl',\n",
       " '17_3_800_17_maf_0.12_0.16.pkl',\n",
       " '17_4_1174_17_maf_0.12_0.16.pkl',\n",
       " '17_5_879_17_maf_0.12_0.16.pkl',\n",
       " '17_6_800_17_maf_0.12_0.16.pkl',\n",
       " '17_7_1200_17_maf_0.12_0.16.pkl',\n",
       " '17_8_800_17_maf_0.12_0.16.pkl',\n",
       " '17_9_800_17_maf_0.12_0.16.pkl',\n",
       " '15_0_1138_15_maf_0.067_0.093.pkl',\n",
       " '15_1_1177_15_maf_0.067_0.093.pkl',\n",
       " '15_2_800_15_maf_0.067_0.093.pkl',\n",
       " '15_3_1016_15_maf_0.067_0.093.pkl',\n",
       " '15_4_1069_15_maf_0.067_0.093.pkl',\n",
       " '15_5_1200_15_maf_0.067_0.093.pkl',\n",
       " '15_6_800_15_maf_0.067_0.093.pkl',\n",
       " '15_7_800_15_maf_0.067_0.093.pkl',\n",
       " '15_8_1200_15_maf_0.067_0.093.pkl',\n",
       " '15_9_800_15_maf_0.067_0.093.pkl',\n",
       " '11_0_1200_11_maf_0.014_0.021.pkl',\n",
       " '11_1_1200_11_maf_0.014_0.021.pkl',\n",
       " '11_2_800_11_maf_0.014_0.021.pkl',\n",
       " '11_3_800_11_maf_0.014_0.021.pkl',\n",
       " '11_4_800_11_maf_0.014_0.021.pkl',\n",
       " '11_5_1200_11_maf_0.014_0.021.pkl',\n",
       " '11_6_1101_11_maf_0.014_0.021.pkl',\n",
       " '11_7_800_11_maf_0.014_0.021.pkl',\n",
       " '11_8_1200_11_maf_0.014_0.021.pkl',\n",
       " '11_9_899_11_maf_0.014_0.021.pkl',\n",
       " '0_0_1162_0_maf_0.0004_0.0004.pkl',\n",
       " '0_1_1032_0_maf_0.0004_0.0004.pkl',\n",
       " '0_2_969_0_maf_0.0004_0.0004.pkl',\n",
       " '0_3_1200_0_maf_0.0004_0.0004.pkl',\n",
       " '0_4_800_0_maf_0.0004_0.0004.pkl',\n",
       " '0_5_965_0_maf_0.0004_0.0004.pkl',\n",
       " '0_6_1179_0_maf_0.0004_0.0004.pkl',\n",
       " '0_7_801_0_maf_0.0004_0.0004.pkl',\n",
       " '0_8_1092_0_maf_0.0004_0.0004.pkl',\n",
       " '0_9_800_0_maf_0.0004_0.0004.pkl',\n",
       " '7_0_928_7_maf_0.0026_0.0038.pkl',\n",
       " '7_1_1200_7_maf_0.0026_0.0038.pkl',\n",
       " '7_2_800_7_maf_0.0026_0.0038.pkl',\n",
       " '7_3_1200_7_maf_0.0026_0.0038.pkl',\n",
       " '7_4_1200_7_maf_0.0026_0.0038.pkl',\n",
       " '7_5_800_7_maf_0.0026_0.0038.pkl',\n",
       " '7_6_800_7_maf_0.0026_0.0038.pkl',\n",
       " '7_7_883_7_maf_0.0026_0.0038.pkl',\n",
       " '7_8_1200_7_maf_0.0026_0.0038.pkl',\n",
       " '7_9_989_7_maf_0.0026_0.0038.pkl',\n",
       " '4_0_1200_4_maf_0.001_0.0012.pkl',\n",
       " '4_1_800_4_maf_0.001_0.0012.pkl',\n",
       " '4_2_1195_4_maf_0.001_0.0012.pkl',\n",
       " '4_3_1151_4_maf_0.001_0.0012.pkl',\n",
       " '4_4_1200_4_maf_0.001_0.0012.pkl',\n",
       " '4_5_931_4_maf_0.001_0.0012.pkl',\n",
       " '4_6_800_4_maf_0.001_0.0012.pkl',\n",
       " '4_7_800_4_maf_0.001_0.0012.pkl',\n",
       " '4_8_1110_4_maf_0.001_0.0012.pkl',\n",
       " '4_9_813_4_maf_0.001_0.0012.pkl',\n",
       " '1_0_1122_1_maf_0.0004_0.0004.pkl',\n",
       " '1_1_1111_1_maf_0.0004_0.0004.pkl',\n",
       " '1_2_800_1_maf_0.0004_0.0004.pkl',\n",
       " '1_3_1200_1_maf_0.0004_0.0004.pkl',\n",
       " '1_4_800_1_maf_0.0004_0.0004.pkl',\n",
       " '1_5_1200_1_maf_0.0004_0.0004.pkl',\n",
       " '1_6_967_1_maf_0.0004_0.0004.pkl',\n",
       " '1_7_800_1_maf_0.0004_0.0004.pkl',\n",
       " '1_8_1200_1_maf_0.0004_0.0004.pkl',\n",
       " '1_9_800_1_maf_0.0004_0.0004.pkl',\n",
       " '13_0_1200_13_maf_0.032_0.047.pkl',\n",
       " '13_1_800_13_maf_0.032_0.047.pkl',\n",
       " '13_2_1200_13_maf_0.032_0.047.pkl',\n",
       " '13_3_1200_13_maf_0.032_0.047.pkl',\n",
       " '13_4_820_13_maf_0.032_0.047.pkl',\n",
       " '13_5_800_13_maf_0.032_0.047.pkl',\n",
       " '13_6_918_13_maf_0.032_0.047.pkl',\n",
       " '13_7_1200_13_maf_0.032_0.047.pkl',\n",
       " '13_8_1062_13_maf_0.032_0.047.pkl',\n",
       " '13_9_800_13_maf_0.032_0.047.pkl',\n",
       " '5_0_1200_5_maf_0.0012_0.0018.pkl',\n",
       " '5_1_925_5_maf_0.0012_0.0018.pkl',\n",
       " '5_2_800_5_maf_0.0012_0.0018.pkl',\n",
       " '5_3_918_5_maf_0.0012_0.0018.pkl',\n",
       " '5_4_1200_5_maf_0.0012_0.0018.pkl',\n",
       " '5_5_1200_5_maf_0.0012_0.0018.pkl',\n",
       " '5_6_800_5_maf_0.0012_0.0018.pkl',\n",
       " '5_7_800_5_maf_0.0012_0.0018.pkl',\n",
       " '5_8_957_5_maf_0.0012_0.0018.pkl',\n",
       " '5_9_1200_5_maf_0.0012_0.0018.pkl',\n",
       " '20_0_1200_20_maf_0.25_0.31.pkl',\n",
       " '20_1_800_20_maf_0.25_0.31.pkl',\n",
       " '20_2_966_20_maf_0.25_0.31.pkl',\n",
       " '20_3_800_20_maf_0.25_0.31.pkl',\n",
       " '20_4_1090_20_maf_0.25_0.31.pkl',\n",
       " '20_5_800_20_maf_0.25_0.31.pkl',\n",
       " '20_6_836_20_maf_0.25_0.31.pkl',\n",
       " '20_7_1200_20_maf_0.25_0.31.pkl',\n",
       " '20_8_1108_20_maf_0.25_0.31.pkl',\n",
       " '20_9_1200_20_maf_0.25_0.31.pkl',\n",
       " '22_0_1200_22_maf_0.37_0.43.pkl',\n",
       " '22_1_996_22_maf_0.37_0.43.pkl',\n",
       " '22_2_800_22_maf_0.37_0.43.pkl',\n",
       " '22_3_1200_22_maf_0.37_0.43.pkl',\n",
       " '22_4_995_22_maf_0.37_0.43.pkl',\n",
       " '22_5_800_22_maf_0.37_0.43.pkl',\n",
       " '22_6_800_22_maf_0.37_0.43.pkl',\n",
       " '22_7_1200_22_maf_0.37_0.43.pkl',\n",
       " '22_8_809_22_maf_0.37_0.43.pkl',\n",
       " '22_9_1200_22_maf_0.37_0.43.pkl',\n",
       " '2_0_1200_2_maf_0.0004_0.0006.pkl',\n",
       " '2_1_803_2_maf_0.0004_0.0006.pkl',\n",
       " '2_2_803_2_maf_0.0004_0.0006.pkl',\n",
       " '2_3_844_2_maf_0.0004_0.0006.pkl',\n",
       " '2_4_1200_2_maf_0.0004_0.0006.pkl',\n",
       " '2_5_800_2_maf_0.0004_0.0006.pkl',\n",
       " '2_6_1200_2_maf_0.0004_0.0006.pkl',\n",
       " '2_7_1150_2_maf_0.0004_0.0006.pkl',\n",
       " '2_8_800_2_maf_0.0004_0.0006.pkl',\n",
       " '2_9_1200_2_maf_0.0004_0.0006.pkl',\n",
       " '21_0_1200_21_maf_0.31_0.37.pkl',\n",
       " '21_1_1200_21_maf_0.31_0.37.pkl',\n",
       " '21_2_800_21_maf_0.31_0.37.pkl',\n",
       " '21_3_891_21_maf_0.31_0.37.pkl',\n",
       " '21_4_800_21_maf_0.31_0.37.pkl',\n",
       " '21_5_892_21_maf_0.31_0.37.pkl',\n",
       " '21_6_1200_21_maf_0.31_0.37.pkl',\n",
       " '21_7_800_21_maf_0.31_0.37.pkl',\n",
       " '21_8_1200_21_maf_0.31_0.37.pkl',\n",
       " '21_9_1017_21_maf_0.31_0.37.pkl',\n",
       " '18_0_970_18_maf_0.16_0.2.pkl',\n",
       " '18_1_1200_18_maf_0.16_0.2.pkl',\n",
       " '18_2_951_18_maf_0.16_0.2.pkl',\n",
       " '18_3_949_18_maf_0.16_0.2.pkl',\n",
       " '18_4_1008_18_maf_0.16_0.2.pkl',\n",
       " '18_5_922_18_maf_0.16_0.2.pkl',\n",
       " '18_6_800_18_maf_0.16_0.2.pkl',\n",
       " '18_7_1200_18_maf_0.16_0.2.pkl',\n",
       " '18_8_1200_18_maf_0.16_0.2.pkl',\n",
       " '18_9_800_18_maf_0.16_0.2.pkl',\n",
       " '9_0_800_9_maf_0.0058_0.009.pkl',\n",
       " '9_1_1200_9_maf_0.0058_0.009.pkl',\n",
       " '9_2_1200_9_maf_0.0058_0.009.pkl',\n",
       " '9_3_936_9_maf_0.0058_0.009.pkl',\n",
       " '9_4_1200_9_maf_0.0058_0.009.pkl',\n",
       " '9_5_806_9_maf_0.0058_0.009.pkl',\n",
       " '9_6_1200_9_maf_0.0058_0.009.pkl',\n",
       " '9_7_876_9_maf_0.0058_0.009.pkl',\n",
       " '9_8_958_9_maf_0.0058_0.009.pkl',\n",
       " '9_9_824_9_maf_0.0058_0.009.pkl',\n",
       " '14_0_1200_14_maf_0.047_0.067.pkl',\n",
       " '14_1_1017_14_maf_0.047_0.067.pkl',\n",
       " '14_2_1200_14_maf_0.047_0.067.pkl',\n",
       " '14_3_1200_14_maf_0.047_0.067.pkl',\n",
       " '14_4_983_14_maf_0.047_0.067.pkl',\n",
       " '14_5_1200_14_maf_0.047_0.067.pkl',\n",
       " '14_6_800_14_maf_0.047_0.067.pkl',\n",
       " '14_7_800_14_maf_0.047_0.067.pkl',\n",
       " '14_8_800_14_maf_0.047_0.067.pkl',\n",
       " '14_9_800_14_maf_0.047_0.067.pkl',\n",
       " '16_0_1155_16_maf_0.093_0.12.pkl',\n",
       " '16_1_1200_16_maf_0.093_0.12.pkl',\n",
       " '16_2_800_16_maf_0.093_0.12.pkl',\n",
       " '16_3_972_16_maf_0.093_0.12.pkl',\n",
       " '16_4_1127_16_maf_0.093_0.12.pkl',\n",
       " '16_5_800_16_maf_0.093_0.12.pkl',\n",
       " '16_6_1146_16_maf_0.093_0.12.pkl',\n",
       " '16_7_800_16_maf_0.093_0.12.pkl',\n",
       " '16_8_1200_16_maf_0.093_0.12.pkl',\n",
       " '16_9_800_16_maf_0.093_0.12.pkl',\n",
       " '8_0_965_8_maf_0.0038_0.0058.pkl',\n",
       " '8_1_927_8_maf_0.0038_0.0058.pkl',\n",
       " '8_2_1200_8_maf_0.0038_0.0058.pkl',\n",
       " '8_3_908_8_maf_0.0038_0.0058.pkl',\n",
       " '8_4_1200_8_maf_0.0038_0.0058.pkl',\n",
       " '8_5_800_8_maf_0.0038_0.0058.pkl',\n",
       " '8_6_800_8_maf_0.0038_0.0058.pkl',\n",
       " '8_7_1200_8_maf_0.0038_0.0058.pkl',\n",
       " '8_8_1200_8_maf_0.0038_0.0058.pkl',\n",
       " '8_9_800_8_maf_0.0038_0.0058.pkl',\n",
       " '19_0_1102_19_maf_0.2_0.25.pkl',\n",
       " '19_1_1200_19_maf_0.2_0.25.pkl',\n",
       " '19_2_1200_19_maf_0.2_0.25.pkl',\n",
       " '19_3_800_19_maf_0.2_0.25.pkl',\n",
       " '19_4_800_19_maf_0.2_0.25.pkl',\n",
       " '19_5_800_19_maf_0.2_0.25.pkl',\n",
       " '19_6_1200_19_maf_0.2_0.25.pkl',\n",
       " '19_7_800_19_maf_0.2_0.25.pkl',\n",
       " '19_8_992_19_maf_0.2_0.25.pkl',\n",
       " '19_9_1106_19_maf_0.2_0.25.pkl',\n",
       " '23_0_1200_23_maf_0.43_0.49.pkl',\n",
       " '23_1_1200_23_maf_0.43_0.49.pkl',\n",
       " '23_2_800_23_maf_0.43_0.49.pkl',\n",
       " '23_3_1200_23_maf_0.43_0.49.pkl',\n",
       " '23_4_959_23_maf_0.43_0.49.pkl',\n",
       " '23_5_800_23_maf_0.43_0.49.pkl',\n",
       " '23_6_800_23_maf_0.43_0.49.pkl',\n",
       " '23_7_800_23_maf_0.43_0.49.pkl',\n",
       " '23_8_1200_23_maf_0.43_0.49.pkl',\n",
       " '23_9_1041_23_maf_0.43_0.49.pkl',\n",
       " '10_0_1200_10_maf_0.009_0.014.pkl',\n",
       " '10_1_1200_10_maf_0.009_0.014.pkl',\n",
       " '10_2_800_10_maf_0.009_0.014.pkl',\n",
       " '10_3_800_10_maf_0.009_0.014.pkl',\n",
       " '10_4_1200_10_maf_0.009_0.014.pkl',\n",
       " '10_5_1093_10_maf_0.009_0.014.pkl',\n",
       " '10_6_1200_10_maf_0.009_0.014.pkl',\n",
       " '10_7_800_10_maf_0.009_0.014.pkl',\n",
       " '10_8_907_10_maf_0.009_0.014.pkl',\n",
       " '10_9_800_10_maf_0.009_0.014.pkl',\n",
       " '6_0_1200_6_maf_0.0018_0.0026.pkl',\n",
       " '6_1_800_6_maf_0.0018_0.0026.pkl',\n",
       " '6_2_1200_6_maf_0.0018_0.0026.pkl',\n",
       " '6_3_1200_6_maf_0.0018_0.0026.pkl',\n",
       " '6_4_800_6_maf_0.0018_0.0026.pkl',\n",
       " '6_5_800_6_maf_0.0018_0.0026.pkl',\n",
       " '6_6_800_6_maf_0.0018_0.0026.pkl',\n",
       " '6_7_1200_6_maf_0.0018_0.0026.pkl',\n",
       " '6_8_800_6_maf_0.0018_0.0026.pkl',\n",
       " '6_9_1200_6_maf_0.0018_0.0026.pkl',\n",
       " '12_0_1200_12_maf_0.021_0.032.pkl',\n",
       " '12_1_1200_12_maf_0.021_0.032.pkl',\n",
       " '12_2_1200_12_maf_0.021_0.032.pkl',\n",
       " '12_3_800_12_maf_0.021_0.032.pkl',\n",
       " '12_4_800_12_maf_0.021_0.032.pkl',\n",
       " '12_5_1200_12_maf_0.021_0.032.pkl',\n",
       " '12_6_800_12_maf_0.021_0.032.pkl',\n",
       " '12_7_1011_12_maf_0.021_0.032.pkl',\n",
       " '12_8_854_12_maf_0.021_0.032.pkl',\n",
       " '12_9_935_12_maf_0.021_0.032.pkl']"
      ]
     },
     "execution_count": 900,
     "metadata": {},
     "output_type": "execute_result"
    }
   ],
   "source": [
    "sumstat_files"
   ]
  },
  {
   "cell_type": "code",
   "execution_count": null,
   "metadata": {},
   "outputs": [],
   "source": [
    "sumstat_array = []\n",
    "for chrom_file in chrom_files:\n",
    "    sumstat_files = [f for f in listdir(path_sumstat + chrom_file + '/' + sit + \"/\")]\n",
    "    # first do it with the first one\n",
    "    path_file = path_sumstat + chrom_file + '/' + sit + '/' + sumstat_files[0]\n",
    "    sumstats = pd.read_pickle(path_file)\n",
    "    for sumstat_file in sumstat_files[1:]:\n",
    "        path_file = path_sumstat + chrom_file + '/' + sit + '/' + sumstat_file\n",
    "        temp = pd.read_pickle(path_file)\n",
    "        sumstats = pd.concat([sumstats,temp])\n",
    "    sumstat_array.append(sumstats)\n",
    "\n",
    "sumstats = sumstat_array[0]\n",
    "for sumstat in sumstat_array[1:]:\n",
    "    sumstats = pd.concat([sumstats,sumstat]) "
   ]
  },
  {
   "cell_type": "code",
   "execution_count": null,
   "metadata": {},
   "outputs": [],
   "source": [
    "sumstats = sumstats.reset_index(drop=True)"
   ]
  },
  {
   "cell_type": "code",
   "execution_count": null,
   "metadata": {},
   "outputs": [],
   "source": [
    "running_pos = 0\n",
    "cumulative_pos = []\n",
    "for chrom, group_df in sumstats.groupby('#CHROM'):\n",
    "    cumulative_pos.append(group_df['POS'] + running_pos)\n",
    "    running_pos += group_df['POS'].max()\n",
    "\n",
    "sumstats['cumulative_pos'] = pd.concat(cumulative_pos)\n",
    "sumstats['SNP number'] = sumstats.index"
   ]
  },
  {
   "cell_type": "code",
   "execution_count": null,
   "metadata": {},
   "outputs": [],
   "source": [
    "causal_chrom = causal_file.split(\"_\")[2]"
   ]
  },
  {
   "cell_type": "code",
   "execution_count": null,
   "metadata": {},
   "outputs": [
    {
     "data": {
      "text/plain": [
       "'no_strat_causal'"
      ]
     },
     "execution_count": 905,
     "metadata": {},
     "output_type": "execute_result"
    }
   ],
   "source": [
    "if sit == 'strat_causal':\n",
    "  title = f\"One causal snp with AF of {maf_causal_snp} on chrom {causal_chrom} with a population dependent phenotype\"\n",
    "elif sit == 'strat_no_causal':\n",
    "  title = f\"No causal snp but with a population dependent phenotype\"\n",
    "elif sit == \"no_strat_causal\":\n",
    "  title = f\"One causal snp with AF of {maf_causal_snp} on chrom {causal_chrom} with no population dependent phenotype\"\n",
    "else:\n",
    "  title = f\"No causal snp and no population dependent phenotype\"\n",
    "sit"
   ]
  },
  {
   "cell_type": "code",
   "execution_count": null,
   "metadata": {},
   "outputs": [
    {
     "data": {
      "text/plain": [
       "'One causal snp with AF of 0.25 on chrom 21 with no population dependent phenotype'"
      ]
     },
     "execution_count": 906,
     "metadata": {},
     "output_type": "execute_result"
    }
   ],
   "source": [
    "title"
   ]
  },
  {
   "cell_type": "code",
   "execution_count": null,
   "metadata": {},
   "outputs": [
    {
     "data": {
      "text/html": [
       "<div>\n",
       "<style scoped>\n",
       "    .dataframe tbody tr th:only-of-type {\n",
       "        vertical-align: middle;\n",
       "    }\n",
       "\n",
       "    .dataframe tbody tr th {\n",
       "        vertical-align: top;\n",
       "    }\n",
       "\n",
       "    .dataframe thead th {\n",
       "        text-align: right;\n",
       "    }\n",
       "</style>\n",
       "<table border=\"1\" class=\"dataframe\">\n",
       "  <thead>\n",
       "    <tr style=\"text-align: right;\">\n",
       "      <th></th>\n",
       "      <th>snp</th>\n",
       "      <th>coef</th>\n",
       "      <th>std_err</th>\n",
       "      <th>t</th>\n",
       "      <th>P</th>\n",
       "      <th>0.025</th>\n",
       "      <th>0.975</th>\n",
       "      <th>#CHROM</th>\n",
       "      <th>POS</th>\n",
       "      <th>-logp</th>\n",
       "      <th>cumulative_pos</th>\n",
       "      <th>SNP number</th>\n",
       "    </tr>\n",
       "  </thead>\n",
       "  <tbody>\n",
       "    <tr>\n",
       "      <th>0</th>\n",
       "      <td>21:10892322:A:G_A</td>\n",
       "      <td>-1.934729</td>\n",
       "      <td>1.532718</td>\n",
       "      <td>-1.262286</td>\n",
       "      <td>0.206964</td>\n",
       "      <td>-4.940255</td>\n",
       "      <td>1.070798</td>\n",
       "      <td>21</td>\n",
       "      <td>10892322</td>\n",
       "      <td>0.684106</td>\n",
       "      <td>10892322</td>\n",
       "      <td>0</td>\n",
       "    </tr>\n",
       "    <tr>\n",
       "      <th>1</th>\n",
       "      <td>21:47368531:A:G_G</td>\n",
       "      <td>1.141090</td>\n",
       "      <td>1.533036</td>\n",
       "      <td>0.744333</td>\n",
       "      <td>0.456745</td>\n",
       "      <td>-1.865061</td>\n",
       "      <td>4.147240</td>\n",
       "      <td>21</td>\n",
       "      <td>47368531</td>\n",
       "      <td>0.340326</td>\n",
       "      <td>47368531</td>\n",
       "      <td>1</td>\n",
       "    </tr>\n",
       "    <tr>\n",
       "      <th>2</th>\n",
       "      <td>21:32892189:A:G_G</td>\n",
       "      <td>-2.319273</td>\n",
       "      <td>1.769433</td>\n",
       "      <td>-1.310744</td>\n",
       "      <td>0.190065</td>\n",
       "      <td>-5.788976</td>\n",
       "      <td>1.150430</td>\n",
       "      <td>21</td>\n",
       "      <td>32892189</td>\n",
       "      <td>0.721099</td>\n",
       "      <td>32892189</td>\n",
       "      <td>2</td>\n",
       "    </tr>\n",
       "    <tr>\n",
       "      <th>3</th>\n",
       "      <td>21:15792338:A:C_C</td>\n",
       "      <td>0.632022</td>\n",
       "      <td>1.533154</td>\n",
       "      <td>0.412236</td>\n",
       "      <td>0.680202</td>\n",
       "      <td>-2.374360</td>\n",
       "      <td>3.638403</td>\n",
       "      <td>21</td>\n",
       "      <td>15792338</td>\n",
       "      <td>0.167362</td>\n",
       "      <td>15792338</td>\n",
       "      <td>3</td>\n",
       "    </tr>\n",
       "    <tr>\n",
       "      <th>4</th>\n",
       "      <td>21:25645657:G:T_T</td>\n",
       "      <td>-1.948166</td>\n",
       "      <td>1.532711</td>\n",
       "      <td>-1.271059</td>\n",
       "      <td>0.203826</td>\n",
       "      <td>-4.953679</td>\n",
       "      <td>1.057347</td>\n",
       "      <td>21</td>\n",
       "      <td>25645657</td>\n",
       "      <td>0.690741</td>\n",
       "      <td>25645657</td>\n",
       "      <td>4</td>\n",
       "    </tr>\n",
       "    <tr>\n",
       "      <th>...</th>\n",
       "      <td>...</td>\n",
       "      <td>...</td>\n",
       "      <td>...</td>\n",
       "      <td>...</td>\n",
       "      <td>...</td>\n",
       "      <td>...</td>\n",
       "      <td>...</td>\n",
       "      <td>...</td>\n",
       "      <td>...</td>\n",
       "      <td>...</td>\n",
       "      <td>...</td>\n",
       "      <td>...</td>\n",
       "    </tr>\n",
       "    <tr>\n",
       "      <th>479995</th>\n",
       "      <td>22:31587218:C:T_C</td>\n",
       "      <td>-0.085368</td>\n",
       "      <td>0.117760</td>\n",
       "      <td>-0.724933</td>\n",
       "      <td>0.468561</td>\n",
       "      <td>-0.316284</td>\n",
       "      <td>0.145549</td>\n",
       "      <td>22</td>\n",
       "      <td>31587218</td>\n",
       "      <td>0.329234</td>\n",
       "      <td>79706852</td>\n",
       "      <td>479995</td>\n",
       "    </tr>\n",
       "    <tr>\n",
       "      <th>479996</th>\n",
       "      <td>22:37377737:C:T_T</td>\n",
       "      <td>-0.014694</td>\n",
       "      <td>0.126099</td>\n",
       "      <td>-0.116527</td>\n",
       "      <td>0.907245</td>\n",
       "      <td>-0.261963</td>\n",
       "      <td>0.232575</td>\n",
       "      <td>22</td>\n",
       "      <td>37377737</td>\n",
       "      <td>0.042276</td>\n",
       "      <td>85497371</td>\n",
       "      <td>479996</td>\n",
       "    </tr>\n",
       "    <tr>\n",
       "      <th>479997</th>\n",
       "      <td>22:30678530:A:G_A</td>\n",
       "      <td>0.005425</td>\n",
       "      <td>0.119980</td>\n",
       "      <td>0.045212</td>\n",
       "      <td>0.963942</td>\n",
       "      <td>-0.229846</td>\n",
       "      <td>0.240695</td>\n",
       "      <td>22</td>\n",
       "      <td>30678530</td>\n",
       "      <td>0.015949</td>\n",
       "      <td>78798164</td>\n",
       "      <td>479997</td>\n",
       "    </tr>\n",
       "    <tr>\n",
       "      <th>479998</th>\n",
       "      <td>22:27063804:C:G_G</td>\n",
       "      <td>0.175412</td>\n",
       "      <td>0.126437</td>\n",
       "      <td>1.387339</td>\n",
       "      <td>0.165462</td>\n",
       "      <td>-0.072521</td>\n",
       "      <td>0.423344</td>\n",
       "      <td>22</td>\n",
       "      <td>27063804</td>\n",
       "      <td>0.781302</td>\n",
       "      <td>75183438</td>\n",
       "      <td>479998</td>\n",
       "    </tr>\n",
       "    <tr>\n",
       "      <th>479999</th>\n",
       "      <td>22:27751435:A:G_A</td>\n",
       "      <td>-0.252428</td>\n",
       "      <td>0.125029</td>\n",
       "      <td>-2.018950</td>\n",
       "      <td>0.043599</td>\n",
       "      <td>-0.497599</td>\n",
       "      <td>-0.007256</td>\n",
       "      <td>22</td>\n",
       "      <td>27751435</td>\n",
       "      <td>1.360525</td>\n",
       "      <td>75871069</td>\n",
       "      <td>479999</td>\n",
       "    </tr>\n",
       "  </tbody>\n",
       "</table>\n",
       "<p>480000 rows × 12 columns</p>\n",
       "</div>"
      ],
      "text/plain": [
       "                      snp      coef   std_err         t         P     0.025  \\\n",
       "0       21:10892322:A:G_A -1.934729  1.532718 -1.262286  0.206964 -4.940255   \n",
       "1       21:47368531:A:G_G  1.141090  1.533036  0.744333  0.456745 -1.865061   \n",
       "2       21:32892189:A:G_G -2.319273  1.769433 -1.310744  0.190065 -5.788976   \n",
       "3       21:15792338:A:C_C  0.632022  1.533154  0.412236  0.680202 -2.374360   \n",
       "4       21:25645657:G:T_T -1.948166  1.532711 -1.271059  0.203826 -4.953679   \n",
       "...                   ...       ...       ...       ...       ...       ...   \n",
       "479995  22:31587218:C:T_C -0.085368  0.117760 -0.724933  0.468561 -0.316284   \n",
       "479996  22:37377737:C:T_T -0.014694  0.126099 -0.116527  0.907245 -0.261963   \n",
       "479997  22:30678530:A:G_A  0.005425  0.119980  0.045212  0.963942 -0.229846   \n",
       "479998  22:27063804:C:G_G  0.175412  0.126437  1.387339  0.165462 -0.072521   \n",
       "479999  22:27751435:A:G_A -0.252428  0.125029 -2.018950  0.043599 -0.497599   \n",
       "\n",
       "           0.975  #CHROM       POS     -logp  cumulative_pos  SNP number  \n",
       "0       1.070798      21  10892322  0.684106        10892322           0  \n",
       "1       4.147240      21  47368531  0.340326        47368531           1  \n",
       "2       1.150430      21  32892189  0.721099        32892189           2  \n",
       "3       3.638403      21  15792338  0.167362        15792338           3  \n",
       "4       1.057347      21  25645657  0.690741        25645657           4  \n",
       "...          ...     ...       ...       ...             ...         ...  \n",
       "479995  0.145549      22  31587218  0.329234        79706852      479995  \n",
       "479996  0.232575      22  37377737  0.042276        85497371      479996  \n",
       "479997  0.240695      22  30678530  0.015949        78798164      479997  \n",
       "479998  0.423344      22  27063804  0.781302        75183438      479998  \n",
       "479999 -0.007256      22  27751435  1.360525        75871069      479999  \n",
       "\n",
       "[480000 rows x 12 columns]"
      ]
     },
     "execution_count": 907,
     "metadata": {},
     "output_type": "execute_result"
    }
   ],
   "source": [
    "sumstats"
   ]
  },
  {
   "cell_type": "code",
   "execution_count": null,
   "metadata": {},
   "outputs": [],
   "source": [
    "sumstats['causality'] = np.zeros(sumstats.shape[0])"
   ]
  },
  {
   "cell_type": "code",
   "execution_count": null,
   "metadata": {},
   "outputs": [],
   "source": [
    "sumstats['causality'].mask(sumstats['snp'] == name, 1, inplace=True)\n"
   ]
  },
  {
   "cell_type": "code",
   "execution_count": null,
   "metadata": {},
   "outputs": [],
   "source": [
    "sumstats = sumstats.sort_values(by=['causality'])\n"
   ]
  },
  {
   "cell_type": "code",
   "execution_count": null,
   "metadata": {},
   "outputs": [],
   "source": [
    "sns.relplot(\n",
    "    data=sumstats,\n",
    "    x='cumulative_pos',\n",
    "    y='-logp',\n",
    "    aspect=2,\n",
    "    hue='#CHROM',\n",
    "    style = \"causality\",\n",
    "    palette='dark'\n",
    ").set(title=title)\n",
    "plt.savefig(f\"{path_sumstat}/GWAS_mono_{sit}.png\")\n",
    "plt.savefig(f\"./GWAS_Common.png\")"
   ]
  },
  {
   "cell_type": "code",
   "execution_count": null,
   "metadata": {},
   "outputs": [],
   "source": []
  }
 ],
 "metadata": {
  "kernelspec": {
   "display_name": "ctg",
   "language": "python",
   "name": "python3"
  },
  "language_info": {
   "codemirror_mode": {
    "name": "ipython",
    "version": 3
   },
   "file_extension": ".py",
   "mimetype": "text/x-python",
   "name": "python",
   "nbconvert_exporter": "python",
   "pygments_lexer": "ipython3",
   "version": "3.10.6"
  },
  "orig_nbformat": 4,
  "vscode": {
   "interpreter": {
    "hash": "405250487c097b2645e04491ea85f4ab25828d93f60f391b21c9cc0ec2536a70"
   }
  }
 },
 "nbformat": 4,
 "nbformat_minor": 2
}
