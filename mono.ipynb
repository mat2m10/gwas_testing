{
 "cells": [
  {
   "cell_type": "code",
   "execution_count": 71,
   "metadata": {},
   "outputs": [],
   "source": [
    "#PATH_data = f\"../abyss_data/\"\n",
    "#Mount external drive: sudo mount -t drvfs D: /mnt/d\n",
    "PATH_data = f\"/mnt/d/abyss_data/\"\n",
    "PATH_GENO = f\"{PATH_data}genotype\"\n",
    "PATH_SUMSTAT = f\"{PATH_data}sumstat/mono/\"\n",
    "PATH_SUMSTAT_no_corr = f\"{PATH_data}sumstat_no_corr\"\n",
    "PATH_GENO_segmented = f\"{PATH_GENO}/segmented/\"\n",
    "PATH_GENO_mini_dim = f\"{PATH_GENO}/mini_dim/\"\n",
    "PATH_GENO_maf = f\"{PATH_GENO}/maf/\"\n",
    "\n",
    "\n",
    "PATH_PHENO = f\"{PATH_data}phenotype/\"\n",
    "PATH_PHENO_ancestry = f\"{PATH_PHENO}/ancestry/all.panel\"\n",
    "PATH_PLOTS = f\"{PATH_data}plots/\"\n",
    "PATH_PARAMS = './hyper_params_to_test_AF.txt'"
   ]
  },
  {
   "cell_type": "code",
   "execution_count": 72,
   "metadata": {},
   "outputs": [],
   "source": [
    "# Import libraries\n",
    "import matplotlib.pyplot as plt\n",
    "import seaborn as sns\n",
    "import tensorflow as tf\n",
    "import numpy as np\n",
    "import pandas as pd  # Import Pandas and Numpy to create databases\n",
    "from collections import Counter\n",
    "import os\n",
    "from os import listdir\n",
    "os.environ['TF_CPP_MIN_LOG_LEVEL'] = '4'"
   ]
  },
  {
   "cell_type": "code",
   "execution_count": 73,
   "metadata": {},
   "outputs": [],
   "source": [
    "effect = 3\n",
    "chrom = 21\n",
    "maf_causal_snp = 0.2\n",
    "sit = \"no_strat_causal\""
   ]
  },
  {
   "cell_type": "code",
   "execution_count": 74,
   "metadata": {},
   "outputs": [],
   "source": [
    "path_genos = PATH_GENO_segmented + f\"chrom_{chrom}/unshuffled/\"\n"
   ]
  },
  {
   "cell_type": "code",
   "execution_count": 75,
   "metadata": {},
   "outputs": [],
   "source": [
    "onlyfiles_input = [f for f in listdir(\n",
    "    path_genos) if maf_causal_snp + maf_causal_snp/5 > float(f.split('_')[5]) > maf_causal_snp - maf_causal_snp/5]\n"
   ]
  },
  {
   "cell_type": "code",
   "execution_count": 76,
   "metadata": {},
   "outputs": [],
   "source": [
    "popped = onlyfiles_input[round(len(onlyfiles_input)/2)]\n",
    "snp_nr = 0"
   ]
  },
  {
   "cell_type": "code",
   "execution_count": 77,
   "metadata": {},
   "outputs": [
    {
     "data": {
      "text/plain": [
       "'19_5_800_19_maf_0.2_0.25.pkl'"
      ]
     },
     "execution_count": 77,
     "metadata": {},
     "output_type": "execute_result"
    }
   ],
   "source": [
    "popped"
   ]
  },
  {
   "cell_type": "code",
   "execution_count": 78,
   "metadata": {},
   "outputs": [
    {
     "data": {
      "text/plain": [
       "0"
      ]
     },
     "execution_count": 78,
     "metadata": {},
     "output_type": "execute_result"
    }
   ],
   "source": [
    "os.system(f\"mkdir {PATH_SUMSTAT}maf_causal_{maf_causal_snp}\")"
   ]
  },
  {
   "cell_type": "code",
   "execution_count": 79,
   "metadata": {},
   "outputs": [
    {
     "data": {
      "text/plain": [
       "0"
      ]
     },
     "execution_count": 79,
     "metadata": {},
     "output_type": "execute_result"
    }
   ],
   "source": [
    "os.system(f\"mkdir {PATH_SUMSTAT}maf_causal_{maf_causal_snp}/{chrom}\")\n"
   ]
  },
  {
   "cell_type": "code",
   "execution_count": 80,
   "metadata": {},
   "outputs": [],
   "source": [
    "PATH_mono = f\"{PATH_SUMSTAT}maf_causal_{maf_causal_snp}\"\n"
   ]
  },
  {
   "cell_type": "code",
   "execution_count": 81,
   "metadata": {},
   "outputs": [
    {
     "name": "stdout",
     "output_type": "stream",
     "text": [
      "list index out of range\n"
     ]
    }
   ],
   "source": [
    "try:\n",
    "  causal_file = [f for f in listdir(\n",
    "      PATH_mono) if f.startswith(\"from_chrom\")][0]\n",
    "  snps = pd.read_pickle(f\"{PATH_mono}/{causal_file}\")\n",
    "except Exception as e:\n",
    "  print(e)\n",
    "  snps = pd.read_pickle(path_genos+popped)\n",
    "  snps.to_pickle(f\"{PATH_mono}/from_chrom_{chrom}_{popped}\")\n",
    "  snp = snps.iloc[:, snp_nr]\n",
    "  name = snps.columns[snp_nr]\n",
    "  snp.to_pickle(f\"{PATH_mono}/causal_snp_{name}.pkl\")"
   ]
  },
  {
   "cell_type": "code",
   "execution_count": 82,
   "metadata": {},
   "outputs": [],
   "source": [
    "causal_file = [f for f in listdir(PATH_mono) if f.startswith(\"from_chrom\")][0]\n"
   ]
  },
  {
   "cell_type": "code",
   "execution_count": 83,
   "metadata": {},
   "outputs": [],
   "source": [
    "humans = pd.read_pickle(f\"{PATH_data}sumstat/humans_no_causal.pkl\")\n"
   ]
  },
  {
   "cell_type": "code",
   "execution_count": 84,
   "metadata": {},
   "outputs": [],
   "source": [
    "snps = pd.read_pickle(f\"{PATH_mono}/{causal_file}\")\n",
    "\n",
    "name = snps.columns[snp_nr]\n",
    "\n",
    "snp_effect = snps.iloc[:, snp_nr] * effect\n",
    "#snp_effect = snps.iloc[:, snp_nr] * (effect/float(maf.split('_')[0]))\n",
    "\n",
    "humans['no_strat_causal'] = humans['no_strat_no_causal']\n",
    "humans['strat_causal'] = humans['strat_no_causal']\n",
    "\n",
    "humans['no_strat_causal'] = humans['no_strat_causal'] + snp_effect\n",
    "humans['strat_causal'] = humans['strat_causal'] + snp_effect"
   ]
  },
  {
   "cell_type": "code",
   "execution_count": 85,
   "metadata": {},
   "outputs": [
    {
     "name": "stdout",
     "output_type": "stream",
     "text": [
      "dict_keys([3, -3, 0])\n"
     ]
    }
   ],
   "source": [
    "print(Counter(snp_effect).keys())"
   ]
  },
  {
   "cell_type": "code",
   "execution_count": 86,
   "metadata": {},
   "outputs": [
    {
     "data": {
      "text/plain": [
       "0"
      ]
     },
     "execution_count": 86,
     "metadata": {},
     "output_type": "execute_result"
    }
   ],
   "source": [
    "os.system(f\"mkdir {PATH_SUMSTAT}maf_causal_{maf_causal_snp}/{chrom}/{sit}\")\n"
   ]
  },
  {
   "cell_type": "code",
   "execution_count": 87,
   "metadata": {},
   "outputs": [],
   "source": [
    "path_output = f\"{PATH_SUMSTAT}maf_causal_{maf_causal_snp}/{chrom}/{sit}/\"\n"
   ]
  },
  {
   "cell_type": "code",
   "execution_count": 88,
   "metadata": {},
   "outputs": [],
   "source": [
    "pheno = np.array(humans[sit])"
   ]
  },
  {
   "cell_type": "code",
   "execution_count": 89,
   "metadata": {},
   "outputs": [],
   "source": [
    "from sklearn import datasets, linear_model\n",
    "from sklearn.linear_model import LinearRegression\n",
    "import statsmodels.api as sm\n",
    "from scipy import stats"
   ]
  },
  {
   "cell_type": "code",
   "execution_count": 90,
   "metadata": {},
   "outputs": [],
   "source": [
    "onlyfiles_input = [f for f in listdir(path_genos)]"
   ]
  },
  {
   "cell_type": "code",
   "execution_count": 91,
   "metadata": {},
   "outputs": [],
   "source": [
    "for file in onlyfiles_input:\n",
    "    path_file = path_genos + '/' + file\n",
    "    genos = pd.read_pickle(path_file)    \n",
    "    X = genos\n",
    "    y = pheno\n",
    "    X2 = sm.add_constant(X)\n",
    "    est = sm.OLS(y, X2)\n",
    "    est2 = est.fit()\n",
    "    sumstat = pd.DataFrame(data={\n",
    "        'snp': list(est2.pvalues.index)[1:],\n",
    "        'coef': list(est2.params)[1:],\n",
    "        'std_err': list(est2.bse)[1:],\n",
    "        't': list(est2.tvalues)[1:],\n",
    "        'P': list(est2.pvalues[1:]),\n",
    "        '0.025': list(est2.conf_int()[0])[1:],\n",
    "        '0.975': list(est2.conf_int()[1])[1:]\n",
    "    })\n",
    "    sumstat['#CHROM'] = sumstat['snp'].str[:2].astype(int)\n",
    "    sumstat['POS'] = [i.split(':', 1)[0]\n",
    "                      for i in list(sumstat['snp'].str[3:-5])]\n",
    "    sumstat['POS'] = sumstat['POS'].astype(int)\n",
    "    sumstat['-logp'] = - np.log10(sumstat['P'])\n",
    "    sumstat.to_pickle(f\"{path_output}/{file}\")\n"
   ]
  },
  {
   "cell_type": "code",
   "execution_count": 92,
   "metadata": {},
   "outputs": [],
   "source": [
    "path_sumstat = f\"{PATH_SUMSTAT}maf_causal_{maf_causal_snp}/\"\n"
   ]
  },
  {
   "cell_type": "code",
   "execution_count": 93,
   "metadata": {},
   "outputs": [],
   "source": [
    "chrom_files = [f for f in listdir(path_sumstat) if f != causal_file]\n",
    "chrom_files = [f for f in chrom_files if f != f\"causal_snp_{name}.pkl\"]\n",
    "chrom_files = [f for f in chrom_files if f != f\"GWAS_mono_{sit}.png\"]\n"
   ]
  },
  {
   "cell_type": "code",
   "execution_count": 94,
   "metadata": {},
   "outputs": [
    {
     "data": {
      "text/plain": [
       "['21']"
      ]
     },
     "execution_count": 94,
     "metadata": {},
     "output_type": "execute_result"
    }
   ],
   "source": [
    "chrom_files"
   ]
  },
  {
   "cell_type": "code",
   "execution_count": 95,
   "metadata": {},
   "outputs": [],
   "source": [
    "sumstat_array = []\n",
    "for chrom_file in chrom_files:\n",
    "    sumstat_files = [f for f in listdir(path_sumstat + chrom_file + '/' + sit + \"/\")]\n",
    "    # first do it with the first one\n",
    "    path_file = path_sumstat + chrom_file + '/' + sit + '/' + sumstat_files[0]\n",
    "    sumstats = pd.read_pickle(path_file)\n",
    "    for sumstat_file in sumstat_files[1:]:\n",
    "        path_file = path_sumstat + chrom_file + '/' + sit + '/' + sumstat_file\n",
    "        temp = pd.read_pickle(path_file)\n",
    "        sumstats = pd.concat([sumstats,temp])\n",
    "    sumstat_array.append(sumstats)\n",
    "\n",
    "sumstats = sumstat_array[0]\n",
    "for sumstat in sumstat_array[1:]:\n",
    "    sumstats = pd.concat([sumstats,sumstat]) "
   ]
  },
  {
   "cell_type": "code",
   "execution_count": 96,
   "metadata": {},
   "outputs": [],
   "source": [
    "sumstats = sumstats.reset_index(drop=True)\n"
   ]
  },
  {
   "cell_type": "code",
   "execution_count": 97,
   "metadata": {},
   "outputs": [],
   "source": [
    "running_pos = 0\n",
    "cumulative_pos = []\n",
    "for chrom, group_df in sumstats.groupby('#CHROM'):\n",
    "    cumulative_pos.append(group_df['POS'] + running_pos)\n",
    "    running_pos += group_df['POS'].max()\n",
    "\n",
    "sumstats['cumulative_pos'] = pd.concat(cumulative_pos)\n",
    "sumstats['SNP number'] = sumstats.index"
   ]
  },
  {
   "cell_type": "code",
   "execution_count": 98,
   "metadata": {},
   "outputs": [],
   "source": [
    "causal_chrom = causal_file.split(\"_\")[2]"
   ]
  },
  {
   "cell_type": "code",
   "execution_count": 99,
   "metadata": {},
   "outputs": [
    {
     "data": {
      "text/plain": [
       "'no_strat_causal'"
      ]
     },
     "execution_count": 99,
     "metadata": {},
     "output_type": "execute_result"
    }
   ],
   "source": [
    "if sit == 'strat_causal':\n",
    "  title = f\"One causal snp with AF of {maf_causal_snp} on chrom {causal_chrom} with a population dependent phenotype\"\n",
    "elif sit == 'strat_no_causal':\n",
    "  title = f\"No causal snp but with a population dependent phenotype\"\n",
    "elif sit == \"no_strat_causal\":\n",
    "  title = f\"One causal snp with AF of {maf_causal_snp} on chrom {causal_chrom} with no population dependent phenotype\"\n",
    "else:\n",
    "  title = f\"No causal snp and no population dependent phenotype\"\n",
    "sit"
   ]
  },
  {
   "cell_type": "code",
   "execution_count": 100,
   "metadata": {},
   "outputs": [
    {
     "data": {
      "text/plain": [
       "'One causal snp with AF of 0.2 on chrom 21 with no population dependent phenotype'"
      ]
     },
     "execution_count": 100,
     "metadata": {},
     "output_type": "execute_result"
    }
   ],
   "source": [
    "title"
   ]
  },
  {
   "cell_type": "code",
   "execution_count": 101,
   "metadata": {},
   "outputs": [],
   "source": [
    "sns.relplot(\n",
    "    data=sumstats,\n",
    "    x='cumulative_pos',\n",
    "    y='-logp',\n",
    "    aspect=2,\n",
    "    hue='#CHROM',\n",
    "    palette='dark'\n",
    ").set(title=title)\n",
    "plt.savefig(f\"{path_sumstat}/GWAS_mono_{sit}.png\")\n",
    "plt.savefig(f\"./GWAS_Common.png\")\n"
   ]
  },
  {
   "cell_type": "code",
   "execution_count": 102,
   "metadata": {},
   "outputs": [
    {
     "data": {
      "text/html": [
       "<div>\n",
       "<style scoped>\n",
       "    .dataframe tbody tr th:only-of-type {\n",
       "        vertical-align: middle;\n",
       "    }\n",
       "\n",
       "    .dataframe tbody tr th {\n",
       "        vertical-align: top;\n",
       "    }\n",
       "\n",
       "    .dataframe thead th {\n",
       "        text-align: right;\n",
       "    }\n",
       "</style>\n",
       "<table border=\"1\" class=\"dataframe\">\n",
       "  <thead>\n",
       "    <tr style=\"text-align: right;\">\n",
       "      <th></th>\n",
       "      <th>snp</th>\n",
       "      <th>coef</th>\n",
       "      <th>std_err</th>\n",
       "      <th>t</th>\n",
       "      <th>P</th>\n",
       "      <th>0.025</th>\n",
       "      <th>0.975</th>\n",
       "      <th>#CHROM</th>\n",
       "      <th>POS</th>\n",
       "      <th>-logp</th>\n",
       "      <th>cumulative_pos</th>\n",
       "      <th>SNP number</th>\n",
       "    </tr>\n",
       "  </thead>\n",
       "  <tbody>\n",
       "    <tr>\n",
       "      <th>0</th>\n",
       "      <td>21:10892322:A:G_A</td>\n",
       "      <td>5.523734</td>\n",
       "      <td>3.629059</td>\n",
       "      <td>1.522084</td>\n",
       "      <td>0.128208</td>\n",
       "      <td>-1.595087</td>\n",
       "      <td>12.642554</td>\n",
       "      <td>21</td>\n",
       "      <td>10892322</td>\n",
       "      <td>0.892085</td>\n",
       "      <td>10892322</td>\n",
       "      <td>0</td>\n",
       "    </tr>\n",
       "    <tr>\n",
       "      <th>1</th>\n",
       "      <td>21:47368531:A:G_G</td>\n",
       "      <td>-4.124976</td>\n",
       "      <td>2.773560</td>\n",
       "      <td>-1.487249</td>\n",
       "      <td>0.137168</td>\n",
       "      <td>-9.565637</td>\n",
       "      <td>1.315685</td>\n",
       "      <td>21</td>\n",
       "      <td>47368531</td>\n",
       "      <td>0.862746</td>\n",
       "      <td>47368531</td>\n",
       "      <td>1</td>\n",
       "    </tr>\n",
       "    <tr>\n",
       "      <th>2</th>\n",
       "      <td>21:32892189:A:G_G</td>\n",
       "      <td>-2.509877</td>\n",
       "      <td>2.963794</td>\n",
       "      <td>-0.846846</td>\n",
       "      <td>0.397222</td>\n",
       "      <td>-8.323704</td>\n",
       "      <td>3.303950</td>\n",
       "      <td>21</td>\n",
       "      <td>32892189</td>\n",
       "      <td>0.400967</td>\n",
       "      <td>32892189</td>\n",
       "      <td>2</td>\n",
       "    </tr>\n",
       "    <tr>\n",
       "      <th>3</th>\n",
       "      <td>21:15792338:A:C_C</td>\n",
       "      <td>-0.081659</td>\n",
       "      <td>0.527710</td>\n",
       "      <td>-0.154741</td>\n",
       "      <td>0.877047</td>\n",
       "      <td>-1.116823</td>\n",
       "      <td>0.953506</td>\n",
       "      <td>21</td>\n",
       "      <td>15792338</td>\n",
       "      <td>0.056977</td>\n",
       "      <td>15792338</td>\n",
       "      <td>3</td>\n",
       "    </tr>\n",
       "    <tr>\n",
       "      <th>4</th>\n",
       "      <td>21:25645657:G:T_T</td>\n",
       "      <td>-1.125316</td>\n",
       "      <td>9.840950</td>\n",
       "      <td>-0.114350</td>\n",
       "      <td>0.908976</td>\n",
       "      <td>-20.429484</td>\n",
       "      <td>18.178852</td>\n",
       "      <td>21</td>\n",
       "      <td>25645657</td>\n",
       "      <td>0.041448</td>\n",
       "      <td>25645657</td>\n",
       "      <td>4</td>\n",
       "    </tr>\n",
       "    <tr>\n",
       "      <th>...</th>\n",
       "      <td>...</td>\n",
       "      <td>...</td>\n",
       "      <td>...</td>\n",
       "      <td>...</td>\n",
       "      <td>...</td>\n",
       "      <td>...</td>\n",
       "      <td>...</td>\n",
       "      <td>...</td>\n",
       "      <td>...</td>\n",
       "      <td>...</td>\n",
       "      <td>...</td>\n",
       "      <td>...</td>\n",
       "    </tr>\n",
       "    <tr>\n",
       "      <th>239995</th>\n",
       "      <td>21:44811373:G:T_G</td>\n",
       "      <td>0.198773</td>\n",
       "      <td>0.729283</td>\n",
       "      <td>0.272559</td>\n",
       "      <td>0.785224</td>\n",
       "      <td>-1.231594</td>\n",
       "      <td>1.629140</td>\n",
       "      <td>21</td>\n",
       "      <td>44811373</td>\n",
       "      <td>0.105006</td>\n",
       "      <td>44811373</td>\n",
       "      <td>239995</td>\n",
       "    </tr>\n",
       "    <tr>\n",
       "      <th>239996</th>\n",
       "      <td>21:27970452:C:T_C</td>\n",
       "      <td>0.872304</td>\n",
       "      <td>1.148703</td>\n",
       "      <td>0.759382</td>\n",
       "      <td>0.447727</td>\n",
       "      <td>-1.380684</td>\n",
       "      <td>3.125293</td>\n",
       "      <td>21</td>\n",
       "      <td>27970452</td>\n",
       "      <td>0.348987</td>\n",
       "      <td>27970452</td>\n",
       "      <td>239996</td>\n",
       "    </tr>\n",
       "    <tr>\n",
       "      <th>239997</th>\n",
       "      <td>21:38150472:A:G_A</td>\n",
       "      <td>-0.020570</td>\n",
       "      <td>0.428385</td>\n",
       "      <td>-0.048019</td>\n",
       "      <td>0.961707</td>\n",
       "      <td>-0.860777</td>\n",
       "      <td>0.819636</td>\n",
       "      <td>21</td>\n",
       "      <td>38150472</td>\n",
       "      <td>0.016957</td>\n",
       "      <td>38150472</td>\n",
       "      <td>239997</td>\n",
       "    </tr>\n",
       "    <tr>\n",
       "      <th>239998</th>\n",
       "      <td>21:27971241:C:T_T</td>\n",
       "      <td>0.872304</td>\n",
       "      <td>1.148703</td>\n",
       "      <td>0.759382</td>\n",
       "      <td>0.447727</td>\n",
       "      <td>-1.380684</td>\n",
       "      <td>3.125293</td>\n",
       "      <td>21</td>\n",
       "      <td>27971241</td>\n",
       "      <td>0.348987</td>\n",
       "      <td>27971241</td>\n",
       "      <td>239998</td>\n",
       "    </tr>\n",
       "    <tr>\n",
       "      <th>239999</th>\n",
       "      <td>21:35684481:C:T_T</td>\n",
       "      <td>1.011847</td>\n",
       "      <td>1.819312</td>\n",
       "      <td>0.556170</td>\n",
       "      <td>0.578166</td>\n",
       "      <td>-2.556429</td>\n",
       "      <td>4.580122</td>\n",
       "      <td>21</td>\n",
       "      <td>35684481</td>\n",
       "      <td>0.237947</td>\n",
       "      <td>35684481</td>\n",
       "      <td>239999</td>\n",
       "    </tr>\n",
       "  </tbody>\n",
       "</table>\n",
       "<p>240000 rows × 12 columns</p>\n",
       "</div>"
      ],
      "text/plain": [
       "                      snp      coef   std_err         t         P      0.025  \\\n",
       "0       21:10892322:A:G_A  5.523734  3.629059  1.522084  0.128208  -1.595087   \n",
       "1       21:47368531:A:G_G -4.124976  2.773560 -1.487249  0.137168  -9.565637   \n",
       "2       21:32892189:A:G_G -2.509877  2.963794 -0.846846  0.397222  -8.323704   \n",
       "3       21:15792338:A:C_C -0.081659  0.527710 -0.154741  0.877047  -1.116823   \n",
       "4       21:25645657:G:T_T -1.125316  9.840950 -0.114350  0.908976 -20.429484   \n",
       "...                   ...       ...       ...       ...       ...        ...   \n",
       "239995  21:44811373:G:T_G  0.198773  0.729283  0.272559  0.785224  -1.231594   \n",
       "239996  21:27970452:C:T_C  0.872304  1.148703  0.759382  0.447727  -1.380684   \n",
       "239997  21:38150472:A:G_A -0.020570  0.428385 -0.048019  0.961707  -0.860777   \n",
       "239998  21:27971241:C:T_T  0.872304  1.148703  0.759382  0.447727  -1.380684   \n",
       "239999  21:35684481:C:T_T  1.011847  1.819312  0.556170  0.578166  -2.556429   \n",
       "\n",
       "            0.975  #CHROM       POS     -logp  cumulative_pos  SNP number  \n",
       "0       12.642554      21  10892322  0.892085        10892322           0  \n",
       "1        1.315685      21  47368531  0.862746        47368531           1  \n",
       "2        3.303950      21  32892189  0.400967        32892189           2  \n",
       "3        0.953506      21  15792338  0.056977        15792338           3  \n",
       "4       18.178852      21  25645657  0.041448        25645657           4  \n",
       "...           ...     ...       ...       ...             ...         ...  \n",
       "239995   1.629140      21  44811373  0.105006        44811373      239995  \n",
       "239996   3.125293      21  27970452  0.348987        27970452      239996  \n",
       "239997   0.819636      21  38150472  0.016957        38150472      239997  \n",
       "239998   3.125293      21  27971241  0.348987        27971241      239998  \n",
       "239999   4.580122      21  35684481  0.237947        35684481      239999  \n",
       "\n",
       "[240000 rows x 12 columns]"
      ]
     },
     "execution_count": 102,
     "metadata": {},
     "output_type": "execute_result"
    }
   ],
   "source": [
    "sumstats"
   ]
  },
  {
   "cell_type": "code",
   "execution_count": 103,
   "metadata": {},
   "outputs": [],
   "source": [
    "sumstats['causality'] = np.ones(sumstats.shape[0])"
   ]
  },
  {
   "cell_type": "code",
   "execution_count": 104,
   "metadata": {},
   "outputs": [],
   "source": [
    "sumstats['causality'].mask(sumstats['snp'] == name, 0, inplace=True)\n"
   ]
  },
  {
   "cell_type": "code",
   "execution_count": 105,
   "metadata": {},
   "outputs": [],
   "source": [
    "#sumstats = sumstats[sumstats['-logp'] > 5].sort_values(by=['-logp'])"
   ]
  },
  {
   "cell_type": "code",
   "execution_count": 106,
   "metadata": {},
   "outputs": [
    {
     "data": {
      "text/plain": [
       "'\\nsns.relplot(\\n    data=sumstats,\\n    x=\\'cumulative_pos\\',\\n    y=\\'-logp\\',\\n    aspect=2,\\n    hue=\\'#CHROM\\',\\n    style = \"causality\",\\n    palette=\\'dark\\'\\n).set(title=title)\\nplt.savefig(f\"{path_sumstat}/GWAS_mono_{sit}.png\")\\nplt.savefig(f\"./GWAS_Common.png\")\\n'"
      ]
     },
     "execution_count": 106,
     "metadata": {},
     "output_type": "execute_result"
    }
   ],
   "source": [
    "\n",
    "\"\"\"\n",
    "sns.relplot(\n",
    "    data=sumstats,\n",
    "    x='cumulative_pos',\n",
    "    y='-logp',\n",
    "    aspect=2,\n",
    "    hue='#CHROM',\n",
    "    style = \"causality\",\n",
    "    palette='dark'\n",
    ").set(title=title)\n",
    "plt.savefig(f\"{path_sumstat}/GWAS_mono_{sit}.png\")\n",
    "plt.savefig(f\"./GWAS_Common.png\")\n",
    "\"\"\""
   ]
  },
  {
   "cell_type": "code",
   "execution_count": null,
   "metadata": {},
   "outputs": [],
   "source": []
  }
 ],
 "metadata": {
  "kernelspec": {
   "display_name": "ctg",
   "language": "python",
   "name": "python3"
  },
  "language_info": {
   "codemirror_mode": {
    "name": "ipython",
    "version": 3
   },
   "file_extension": ".py",
   "mimetype": "text/x-python",
   "name": "python",
   "nbconvert_exporter": "python",
   "pygments_lexer": "ipython3",
   "version": "3.10.6"
  },
  "orig_nbformat": 4,
  "vscode": {
   "interpreter": {
    "hash": "405250487c097b2645e04491ea85f4ab25828d93f60f391b21c9cc0ec2536a70"
   }
  }
 },
 "nbformat": 4,
 "nbformat_minor": 2
}
