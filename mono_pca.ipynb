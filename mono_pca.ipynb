{
 "cells": [
  {
   "cell_type": "code",
   "execution_count": 17,
   "metadata": {},
   "outputs": [],
   "source": [
    "#PATH_data = f\"../abyss_data/\"\n",
    "#Mount external drive: sudo mount -t drvfs D: /mnt/d\n",
    "PATH_data = f\"/mnt/d/abyss_data/\"\n",
    "PATH_GENO = f\"{PATH_data}genotype\"\n",
    "PATH_SUMSTAT = f\"{PATH_data}sumstat/mono_PCA/\"\n",
    "PATH_GENO_segmented = f\"{PATH_GENO}/segmented/\"\n",
    "PATH_GENO_mini_dim = f\"{PATH_GENO}/mini_dim/\"\n",
    "PATH_GENO_maf = f\"{PATH_GENO}/maf/\"\n",
    "PATH_PHENO = f\"{PATH_data}phenotype/\"\n",
    "PATH_PHENO_ancestry = f\"{PATH_PHENO}/ancestry/all.panel\"\n",
    "PATH_PLOTS = f\"{PATH_data}plots/\"\n",
    "PATH_PARAMS = './hyper_params_to_test_AF.txt'"
   ]
  },
  {
   "cell_type": "code",
   "execution_count": 18,
   "metadata": {},
   "outputs": [],
   "source": [
    "# Import libraries\n",
    "import matplotlib.pyplot as plt\n",
    "import seaborn as sns\n",
    "import tensorflow as tf\n",
    "import numpy as np\n",
    "import pandas as pd  # Import Pandas and Numpy to create databases\n",
    "from collections import Counter\n",
    "import os\n",
    "from os import listdir\n",
    "os.environ['TF_CPP_MIN_LOG_LEVEL'] = '4'"
   ]
  },
  {
   "cell_type": "code",
   "execution_count": 19,
   "metadata": {},
   "outputs": [],
   "source": [
    "effect = 3\n",
    "chrom = 21\n",
    "maf_causal_snp = 0.2\n",
    "sit = \"strat_causal\""
   ]
  },
  {
   "cell_type": "code",
   "execution_count": 20,
   "metadata": {},
   "outputs": [],
   "source": [
    "path_genos = PATH_GENO_segmented + f\"chrom_{chrom}/unshuffled/\"\n"
   ]
  },
  {
   "cell_type": "code",
   "execution_count": 22,
   "metadata": {},
   "outputs": [],
   "source": [
    "onlyfiles_input = [f for f in listdir(\n",
    "    path_genos) if maf_causal_snp + maf_causal_snp/5 > float(f.split('_')[5]) > maf_causal_snp - maf_causal_snp/5]\n"
   ]
  },
  {
   "cell_type": "code",
   "execution_count": 6,
   "metadata": {},
   "outputs": [],
   "source": [
    "popped = onlyfiles_input[round(len(onlyfiles_input)/2)]\n",
    "snp_nr = 0"
   ]
  },
  {
   "cell_type": "code",
   "execution_count": 7,
   "metadata": {},
   "outputs": [
    {
     "data": {
      "text/plain": [
       "'19_5_800_19_maf_0.2_0.25.pkl'"
      ]
     },
     "execution_count": 7,
     "metadata": {},
     "output_type": "execute_result"
    }
   ],
   "source": [
    "popped"
   ]
  },
  {
   "cell_type": "code",
   "execution_count": 8,
   "metadata": {},
   "outputs": [
    {
     "name": "stderr",
     "output_type": "stream",
     "text": [
      "mkdir: cannot create directory ‘/mnt/d/abyss_data/sumstat/mono/maf_causal_0.2’: No such file or directory\n"
     ]
    },
    {
     "data": {
      "text/plain": [
       "256"
      ]
     },
     "execution_count": 8,
     "metadata": {},
     "output_type": "execute_result"
    }
   ],
   "source": [
    "os.system(f\"mkdir {PATH_SUMSTAT}maf_causal_{maf_causal_snp}\")"
   ]
  },
  {
   "cell_type": "markdown",
   "metadata": {},
   "source": []
  },
  {
   "cell_type": "code",
   "execution_count": 9,
   "metadata": {},
   "outputs": [
    {
     "name": "stderr",
     "output_type": "stream",
     "text": [
      "mkdir: cannot create directory ‘/mnt/d/abyss_data/sumstat/mono/maf_causal_0.2/21’: No such file or directory\n"
     ]
    },
    {
     "data": {
      "text/plain": [
       "256"
      ]
     },
     "execution_count": 9,
     "metadata": {},
     "output_type": "execute_result"
    }
   ],
   "source": [
    "os.system(f\"mkdir {PATH_SUMSTAT}maf_causal_{maf_causal_snp}/{chrom}\")\n"
   ]
  },
  {
   "cell_type": "code",
   "execution_count": 10,
   "metadata": {},
   "outputs": [],
   "source": [
    "PATH_mono = f\"{PATH_SUMSTAT}maf_causal_{maf_causal_snp}\"\n"
   ]
  },
  {
   "cell_type": "code",
   "execution_count": 12,
   "metadata": {},
   "outputs": [],
   "source": [
    "try:\n",
    "  causal_file = [f for f in listdir(\n",
    "      PATH_mono) if f.startswith(\"from_chrom\")][0]\n",
    "  snps = pd.read_pickle(f\"{PATH_mono}/{causal_file}\")\n",
    "except Exception as e:\n",
    "  print(e)\n",
    "  snps = pd.read_pickle(path_genos+popped)\n",
    "  snps.to_pickle(f\"{PATH_mono}/from_chrom_{chrom}_{popped}\")\n",
    "  snp = snps.iloc[:, snp_nr]\n",
    "  name = snps.columns[snp_nr]\n",
    "  snp.to_pickle(f\"{PATH_mono}/causal_snp_{name}.pkl\")"
   ]
  },
  {
   "cell_type": "code",
   "execution_count": 13,
   "metadata": {},
   "outputs": [],
   "source": [
    "causal_file = [f for f in listdir(PATH_mono) if f.startswith(\"from_chrom\")][0]"
   ]
  },
  {
   "cell_type": "code",
   "execution_count": 14,
   "metadata": {},
   "outputs": [],
   "source": [
    "humans = pd.read_pickle(f\"{PATH_data}sumstat/humans_no_causal.pkl\")\n"
   ]
  },
  {
   "cell_type": "code",
   "execution_count": 15,
   "metadata": {},
   "outputs": [],
   "source": [
    "snps = pd.read_pickle(f\"{PATH_mono}/{causal_file}\")\n",
    "\n",
    "name = snps.columns[snp_nr]\n",
    "\n",
    "snp_effect = snps.iloc[:, snp_nr] * effect\n",
    "#snp_effect = snps.iloc[:, snp_nr] * (effect/float(maf.split('_')[0]))\n",
    "\n",
    "humans['no_strat_causal'] = humans['no_strat_no_causal']\n",
    "humans['strat_causal'] = humans['strat_no_causal']\n",
    "\n",
    "humans['no_strat_causal'] = humans['no_strat_causal'] + snp_effect\n",
    "humans['strat_causal'] = humans['strat_causal'] + snp_effect"
   ]
  },
  {
   "cell_type": "code",
   "execution_count": 16,
   "metadata": {},
   "outputs": [
    {
     "name": "stdout",
     "output_type": "stream",
     "text": [
      "dict_keys([3, -3, 0])\n"
     ]
    }
   ],
   "source": [
    "print(Counter(snp_effect).keys())"
   ]
  },
  {
   "cell_type": "code",
   "execution_count": 656,
   "metadata": {},
   "outputs": [
    {
     "data": {
      "text/plain": [
       "0"
      ]
     },
     "execution_count": 656,
     "metadata": {},
     "output_type": "execute_result"
    }
   ],
   "source": [
    "os.system(f\"mkdir {PATH_SUMSTAT}maf_causal_{maf_causal_snp}/{chrom}/{sit}\")"
   ]
  },
  {
   "cell_type": "code",
   "execution_count": 657,
   "metadata": {},
   "outputs": [],
   "source": [
    "path_output = f\"{PATH_SUMSTAT}maf_causal_{maf_causal_snp}/{chrom}/{sit}/\"\n"
   ]
  },
  {
   "cell_type": "code",
   "execution_count": 658,
   "metadata": {},
   "outputs": [],
   "source": [
    "pheno = np.array(humans[sit])"
   ]
  },
  {
   "cell_type": "code",
   "execution_count": 659,
   "metadata": {},
   "outputs": [],
   "source": [
    "from sklearn import datasets, linear_model\n",
    "from sklearn.linear_model import LinearRegression\n",
    "import statsmodels.api as sm\n",
    "from scipy import stats"
   ]
  },
  {
   "cell_type": "code",
   "execution_count": 660,
   "metadata": {},
   "outputs": [],
   "source": [
    "onlyfiles_input = [f for f in listdir(path_genos)]"
   ]
  },
  {
   "cell_type": "code",
   "execution_count": 661,
   "metadata": {},
   "outputs": [],
   "source": [
    "for file in onlyfiles_input:\n",
    "    path_file = path_genos + '/' + file\n",
    "    genos = pd.read_pickle(path_file)    \n",
    "    X = genos\n",
    "    y = pheno\n",
    "    X2 = sm.add_constant(X)\n",
    "    est = sm.OLS(y, X2)\n",
    "    est2 = est.fit()\n",
    "    sumstat = pd.DataFrame(data={\n",
    "        'snp': list(est2.pvalues.index)[1:],\n",
    "        'coef': list(est2.params)[1:],\n",
    "        'std_err': list(est2.bse)[1:],\n",
    "        't': list(est2.tvalues)[1:],\n",
    "        'P': list(est2.pvalues[1:]),\n",
    "        '0.025': list(est2.conf_int()[0])[1:],\n",
    "        '0.975': list(est2.conf_int()[1])[1:]\n",
    "    })\n",
    "    sumstat['#CHROM'] = sumstat['snp'].str[:2].astype(int)\n",
    "    sumstat['POS'] = [i.split(':', 1)[0]\n",
    "                      for i in list(sumstat['snp'].str[3:-5])]\n",
    "    sumstat['POS'] = sumstat['POS'].astype(int)\n",
    "    sumstat['-logp'] = - np.log10(sumstat['P'])\n",
    "    sumstat.to_pickle(f\"{path_output}/{file}\")\n"
   ]
  },
  {
   "cell_type": "code",
   "execution_count": 662,
   "metadata": {},
   "outputs": [],
   "source": [
    "path_sumstat = f\"{PATH_SUMSTAT}maf_causal_{maf_causal_snp}/\""
   ]
  },
  {
   "cell_type": "code",
   "execution_count": 663,
   "metadata": {},
   "outputs": [],
   "source": [
    "chrom_files = [f for f in listdir(path_sumstat) if f != causal_file]\n",
    "chrom_files = [f for f in chrom_files if f != f\"causal_snp_{name}.pkl\"]\n",
    "chrom_files = [f for f in chrom_files if f.split(\"_\")[0] != f\"GWAS\"]\n"
   ]
  },
  {
   "cell_type": "code",
   "execution_count": 664,
   "metadata": {},
   "outputs": [
    {
     "data": {
      "text/plain": [
       "['21', '22']"
      ]
     },
     "execution_count": 664,
     "metadata": {},
     "output_type": "execute_result"
    }
   ],
   "source": [
    "chrom_files"
   ]
  },
  {
   "cell_type": "code",
   "execution_count": 665,
   "metadata": {},
   "outputs": [],
   "source": [
    "sumstat_array = []\n",
    "for chrom_file in chrom_files:\n",
    "    sumstat_files = [f for f in listdir(path_sumstat + chrom_file + '/' + sit + \"/\")]\n",
    "    # first do it with the first one\n",
    "    path_file = path_sumstat + chrom_file + '/' + sit + '/' + sumstat_files[0]\n",
    "    sumstats = pd.read_pickle(path_file)\n",
    "    for sumstat_file in sumstat_files[1:]:\n",
    "        path_file = path_sumstat + chrom_file + '/' + sit + '/' + sumstat_file\n",
    "        temp = pd.read_pickle(path_file)\n",
    "        sumstats = pd.concat([sumstats,temp])\n",
    "    sumstat_array.append(sumstats)\n",
    "\n",
    "sumstats = sumstat_array[0]\n",
    "for sumstat in sumstat_array[1:]:\n",
    "    sumstats = pd.concat([sumstats,sumstat]) "
   ]
  },
  {
   "cell_type": "code",
   "execution_count": 666,
   "metadata": {},
   "outputs": [],
   "source": [
    "sumstats = sumstats.reset_index(drop=True)"
   ]
  },
  {
   "cell_type": "code",
   "execution_count": 667,
   "metadata": {},
   "outputs": [],
   "source": [
    "running_pos = 0\n",
    "cumulative_pos = []\n",
    "for chrom, group_df in sumstats.groupby('#CHROM'):\n",
    "    cumulative_pos.append(group_df['POS'] + running_pos)\n",
    "    running_pos += group_df['POS'].max()\n",
    "\n",
    "sumstats['cumulative_pos'] = pd.concat(cumulative_pos)\n",
    "sumstats['SNP number'] = sumstats.index"
   ]
  },
  {
   "cell_type": "code",
   "execution_count": 668,
   "metadata": {},
   "outputs": [],
   "source": [
    "causal_chrom = causal_file.split(\"_\")[2]"
   ]
  },
  {
   "cell_type": "code",
   "execution_count": 669,
   "metadata": {},
   "outputs": [
    {
     "data": {
      "text/plain": [
       "'no_strat_no_causal'"
      ]
     },
     "execution_count": 669,
     "metadata": {},
     "output_type": "execute_result"
    }
   ],
   "source": [
    "if sit == 'strat_causal':\n",
    "  title = f\"One causal snp with AF of {maf_causal_snp} on chrom {causal_chrom} with a population dependent phenotype\"\n",
    "elif sit == 'strat_no_causal':\n",
    "  title = f\"No causal snp but with a population dependent phenotype\"\n",
    "elif sit == \"no_strat_causal\":\n",
    "  title = f\"One causal snp with AF of {maf_causal_snp} on chrom {causal_chrom} with no population dependent phenotype\"\n",
    "else:\n",
    "  title = f\"No causal snp and no population dependent phenotype\"\n",
    "sit"
   ]
  },
  {
   "cell_type": "code",
   "execution_count": 670,
   "metadata": {},
   "outputs": [
    {
     "data": {
      "text/plain": [
       "'No causal snp and no population dependent phenotype'"
      ]
     },
     "execution_count": 670,
     "metadata": {},
     "output_type": "execute_result"
    }
   ],
   "source": [
    "title"
   ]
  },
  {
   "cell_type": "code",
   "execution_count": 671,
   "metadata": {},
   "outputs": [
    {
     "data": {
      "text/html": [
       "<div>\n",
       "<style scoped>\n",
       "    .dataframe tbody tr th:only-of-type {\n",
       "        vertical-align: middle;\n",
       "    }\n",
       "\n",
       "    .dataframe tbody tr th {\n",
       "        vertical-align: top;\n",
       "    }\n",
       "\n",
       "    .dataframe thead th {\n",
       "        text-align: right;\n",
       "    }\n",
       "</style>\n",
       "<table border=\"1\" class=\"dataframe\">\n",
       "  <thead>\n",
       "    <tr style=\"text-align: right;\">\n",
       "      <th></th>\n",
       "      <th>snp</th>\n",
       "      <th>coef</th>\n",
       "      <th>std_err</th>\n",
       "      <th>t</th>\n",
       "      <th>P</th>\n",
       "      <th>0.025</th>\n",
       "      <th>0.975</th>\n",
       "      <th>#CHROM</th>\n",
       "      <th>POS</th>\n",
       "      <th>-logp</th>\n",
       "      <th>cumulative_pos</th>\n",
       "      <th>SNP number</th>\n",
       "    </tr>\n",
       "  </thead>\n",
       "  <tbody>\n",
       "    <tr>\n",
       "      <th>0</th>\n",
       "      <td>21:10892322:A:G_A</td>\n",
       "      <td>-1.626230</td>\n",
       "      <td>3.015333</td>\n",
       "      <td>-0.539320</td>\n",
       "      <td>0.589749</td>\n",
       "      <td>-7.541157</td>\n",
       "      <td>4.288697</td>\n",
       "      <td>21</td>\n",
       "      <td>10892322</td>\n",
       "      <td>0.229332</td>\n",
       "      <td>10892322</td>\n",
       "      <td>0</td>\n",
       "    </tr>\n",
       "    <tr>\n",
       "      <th>1</th>\n",
       "      <td>21:47368531:A:G_G</td>\n",
       "      <td>-0.181777</td>\n",
       "      <td>2.304512</td>\n",
       "      <td>-0.078879</td>\n",
       "      <td>0.937140</td>\n",
       "      <td>-4.702345</td>\n",
       "      <td>4.338791</td>\n",
       "      <td>21</td>\n",
       "      <td>47368531</td>\n",
       "      <td>0.028195</td>\n",
       "      <td>47368531</td>\n",
       "      <td>1</td>\n",
       "    </tr>\n",
       "    <tr>\n",
       "      <th>2</th>\n",
       "      <td>21:32892189:A:G_G</td>\n",
       "      <td>-1.043117</td>\n",
       "      <td>2.462575</td>\n",
       "      <td>-0.423588</td>\n",
       "      <td>0.671930</td>\n",
       "      <td>-5.873743</td>\n",
       "      <td>3.787509</td>\n",
       "      <td>21</td>\n",
       "      <td>32892189</td>\n",
       "      <td>0.172676</td>\n",
       "      <td>32892189</td>\n",
       "      <td>2</td>\n",
       "    </tr>\n",
       "    <tr>\n",
       "      <th>3</th>\n",
       "      <td>21:15792338:A:C_C</td>\n",
       "      <td>-0.608730</td>\n",
       "      <td>0.438467</td>\n",
       "      <td>-1.388315</td>\n",
       "      <td>0.165256</td>\n",
       "      <td>-1.468834</td>\n",
       "      <td>0.251374</td>\n",
       "      <td>21</td>\n",
       "      <td>15792338</td>\n",
       "      <td>0.781842</td>\n",
       "      <td>15792338</td>\n",
       "      <td>3</td>\n",
       "    </tr>\n",
       "    <tr>\n",
       "      <th>4</th>\n",
       "      <td>21:25645657:G:T_T</td>\n",
       "      <td>-11.173373</td>\n",
       "      <td>8.176706</td>\n",
       "      <td>-1.366488</td>\n",
       "      <td>0.172000</td>\n",
       "      <td>-27.212932</td>\n",
       "      <td>4.866187</td>\n",
       "      <td>21</td>\n",
       "      <td>25645657</td>\n",
       "      <td>0.764473</td>\n",
       "      <td>25645657</td>\n",
       "      <td>4</td>\n",
       "    </tr>\n",
       "    <tr>\n",
       "      <th>...</th>\n",
       "      <td>...</td>\n",
       "      <td>...</td>\n",
       "      <td>...</td>\n",
       "      <td>...</td>\n",
       "      <td>...</td>\n",
       "      <td>...</td>\n",
       "      <td>...</td>\n",
       "      <td>...</td>\n",
       "      <td>...</td>\n",
       "      <td>...</td>\n",
       "      <td>...</td>\n",
       "      <td>...</td>\n",
       "    </tr>\n",
       "    <tr>\n",
       "      <th>479995</th>\n",
       "      <td>22:31587218:C:T_C</td>\n",
       "      <td>1.163789</td>\n",
       "      <td>1.183898</td>\n",
       "      <td>0.983015</td>\n",
       "      <td>0.325765</td>\n",
       "      <td>-1.158556</td>\n",
       "      <td>3.486135</td>\n",
       "      <td>22</td>\n",
       "      <td>31587218</td>\n",
       "      <td>0.487096</td>\n",
       "      <td>79706852</td>\n",
       "      <td>479995</td>\n",
       "    </tr>\n",
       "    <tr>\n",
       "      <th>479996</th>\n",
       "      <td>22:37377737:C:T_T</td>\n",
       "      <td>-6.205272</td>\n",
       "      <td>4.396451</td>\n",
       "      <td>-1.411428</td>\n",
       "      <td>0.158334</td>\n",
       "      <td>-14.829390</td>\n",
       "      <td>2.418847</td>\n",
       "      <td>22</td>\n",
       "      <td>37377737</td>\n",
       "      <td>0.800425</td>\n",
       "      <td>85497371</td>\n",
       "      <td>479996</td>\n",
       "    </tr>\n",
       "    <tr>\n",
       "      <th>479997</th>\n",
       "      <td>22:30678530:A:G_A</td>\n",
       "      <td>-0.801674</td>\n",
       "      <td>2.195977</td>\n",
       "      <td>-0.365065</td>\n",
       "      <td>0.715117</td>\n",
       "      <td>-5.109323</td>\n",
       "      <td>3.505975</td>\n",
       "      <td>22</td>\n",
       "      <td>30678530</td>\n",
       "      <td>0.145623</td>\n",
       "      <td>78798164</td>\n",
       "      <td>479997</td>\n",
       "    </tr>\n",
       "    <tr>\n",
       "      <th>479998</th>\n",
       "      <td>22:27063804:C:G_G</td>\n",
       "      <td>0.679335</td>\n",
       "      <td>0.544600</td>\n",
       "      <td>1.247402</td>\n",
       "      <td>0.212453</td>\n",
       "      <td>-0.388957</td>\n",
       "      <td>1.747626</td>\n",
       "      <td>22</td>\n",
       "      <td>27063804</td>\n",
       "      <td>0.672738</td>\n",
       "      <td>75183438</td>\n",
       "      <td>479998</td>\n",
       "    </tr>\n",
       "    <tr>\n",
       "      <th>479999</th>\n",
       "      <td>22:27751435:A:G_A</td>\n",
       "      <td>3.242127</td>\n",
       "      <td>4.152709</td>\n",
       "      <td>0.780726</td>\n",
       "      <td>0.435092</td>\n",
       "      <td>-4.903866</td>\n",
       "      <td>11.388121</td>\n",
       "      <td>22</td>\n",
       "      <td>27751435</td>\n",
       "      <td>0.361419</td>\n",
       "      <td>75871069</td>\n",
       "      <td>479999</td>\n",
       "    </tr>\n",
       "  </tbody>\n",
       "</table>\n",
       "<p>480000 rows × 12 columns</p>\n",
       "</div>"
      ],
      "text/plain": [
       "                      snp       coef   std_err         t         P      0.025  \\\n",
       "0       21:10892322:A:G_A  -1.626230  3.015333 -0.539320  0.589749  -7.541157   \n",
       "1       21:47368531:A:G_G  -0.181777  2.304512 -0.078879  0.937140  -4.702345   \n",
       "2       21:32892189:A:G_G  -1.043117  2.462575 -0.423588  0.671930  -5.873743   \n",
       "3       21:15792338:A:C_C  -0.608730  0.438467 -1.388315  0.165256  -1.468834   \n",
       "4       21:25645657:G:T_T -11.173373  8.176706 -1.366488  0.172000 -27.212932   \n",
       "...                   ...        ...       ...       ...       ...        ...   \n",
       "479995  22:31587218:C:T_C   1.163789  1.183898  0.983015  0.325765  -1.158556   \n",
       "479996  22:37377737:C:T_T  -6.205272  4.396451 -1.411428  0.158334 -14.829390   \n",
       "479997  22:30678530:A:G_A  -0.801674  2.195977 -0.365065  0.715117  -5.109323   \n",
       "479998  22:27063804:C:G_G   0.679335  0.544600  1.247402  0.212453  -0.388957   \n",
       "479999  22:27751435:A:G_A   3.242127  4.152709  0.780726  0.435092  -4.903866   \n",
       "\n",
       "            0.975  #CHROM       POS     -logp  cumulative_pos  SNP number  \n",
       "0        4.288697      21  10892322  0.229332        10892322           0  \n",
       "1        4.338791      21  47368531  0.028195        47368531           1  \n",
       "2        3.787509      21  32892189  0.172676        32892189           2  \n",
       "3        0.251374      21  15792338  0.781842        15792338           3  \n",
       "4        4.866187      21  25645657  0.764473        25645657           4  \n",
       "...           ...     ...       ...       ...             ...         ...  \n",
       "479995   3.486135      22  31587218  0.487096        79706852      479995  \n",
       "479996   2.418847      22  37377737  0.800425        85497371      479996  \n",
       "479997   3.505975      22  30678530  0.145623        78798164      479997  \n",
       "479998   1.747626      22  27063804  0.672738        75183438      479998  \n",
       "479999  11.388121      22  27751435  0.361419        75871069      479999  \n",
       "\n",
       "[480000 rows x 12 columns]"
      ]
     },
     "execution_count": 671,
     "metadata": {},
     "output_type": "execute_result"
    }
   ],
   "source": [
    "sumstats"
   ]
  },
  {
   "cell_type": "code",
   "execution_count": 672,
   "metadata": {},
   "outputs": [],
   "source": [
    "sumstats['causality'] = np.zeros(sumstats.shape[0])"
   ]
  },
  {
   "cell_type": "code",
   "execution_count": 673,
   "metadata": {},
   "outputs": [],
   "source": [
    "sumstats['causality'].mask(sumstats['snp'] == name, 1, inplace=True)\n"
   ]
  },
  {
   "cell_type": "code",
   "execution_count": 674,
   "metadata": {},
   "outputs": [],
   "source": [
    "sumstats = sumstats.sort_values(by=['causality'])\n"
   ]
  },
  {
   "cell_type": "code",
   "execution_count": 675,
   "metadata": {},
   "outputs": [],
   "source": [
    "sns.relplot(\n",
    "    data=sumstats,\n",
    "    x='cumulative_pos',\n",
    "    y='-logp',\n",
    "    aspect=2,\n",
    "    hue='#CHROM',\n",
    "    style = \"causality\",\n",
    "    palette='dark'\n",
    ").set(title=title)\n",
    "plt.savefig(f\"{path_sumstat}/GWAS_mono_{sit}.png\")\n",
    "plt.savefig(f\"./GWAS_Common.png\")"
   ]
  },
  {
   "cell_type": "code",
   "execution_count": null,
   "metadata": {},
   "outputs": [],
   "source": []
  }
 ],
 "metadata": {
  "kernelspec": {
   "display_name": "ctg",
   "language": "python",
   "name": "python3"
  },
  "language_info": {
   "codemirror_mode": {
    "name": "ipython",
    "version": 3
   },
   "file_extension": ".py",
   "mimetype": "text/x-python",
   "name": "python",
   "nbconvert_exporter": "python",
   "pygments_lexer": "ipython3",
   "version": "3.10.6"
  },
  "orig_nbformat": 4,
  "vscode": {
   "interpreter": {
    "hash": "405250487c097b2645e04491ea85f4ab25828d93f60f391b21c9cc0ec2536a70"
   }
  }
 },
 "nbformat": 4,
 "nbformat_minor": 2
}
